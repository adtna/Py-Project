{
 "cells": [
  {
   "cell_type": "markdown",
   "id": "907572da",
   "metadata": {
    "papermill": {
     "duration": 0.016075,
     "end_time": "2022-10-18T13:32:45.710476",
     "exception": false,
     "start_time": "2022-10-18T13:32:45.694401",
     "status": "completed"
    },
    "tags": []
   },
   "source": [
    "###### **1. IMPORTING ALL PYTHON LIBRARY THAT WE NEED**"
   ]
  },
  {
   "cell_type": "code",
   "execution_count": 1,
   "id": "9c28b902",
   "metadata": {
    "_cell_guid": "b1076dfc-b9ad-4769-8c92-a6c4dae69d19",
    "_kg_hide-output": true,
    "_uuid": "8f2839f25d086af736a60e9eeb907d3b93b6e0e5",
    "execution": {
     "iopub.execute_input": "2022-10-18T13:32:45.744693Z",
     "iopub.status.busy": "2022-10-18T13:32:45.743735Z",
     "iopub.status.idle": "2022-10-18T13:32:47.072430Z",
     "shell.execute_reply": "2022-10-18T13:32:47.070948Z"
    },
    "papermill": {
     "duration": 1.349879,
     "end_time": "2022-10-18T13:32:47.075528",
     "exception": false,
     "start_time": "2022-10-18T13:32:45.725649",
     "status": "completed"
    },
    "tags": []
   },
   "outputs": [
    {
     "name": "stdout",
     "output_type": "stream",
     "text": [
      "/kaggle/input/brazilian-ecommerce/olist_customers_dataset.csv\n",
      "/kaggle/input/brazilian-ecommerce/olist_sellers_dataset.csv\n",
      "/kaggle/input/brazilian-ecommerce/olist_order_reviews_dataset.csv\n",
      "/kaggle/input/brazilian-ecommerce/olist_order_items_dataset.csv\n",
      "/kaggle/input/brazilian-ecommerce/olist_products_dataset.csv\n",
      "/kaggle/input/brazilian-ecommerce/olist_geolocation_dataset.csv\n",
      "/kaggle/input/brazilian-ecommerce/product_category_name_translation.csv\n",
      "/kaggle/input/brazilian-ecommerce/olist_orders_dataset.csv\n",
      "/kaggle/input/brazilian-ecommerce/olist_order_payments_dataset.csv\n"
     ]
    }
   ],
   "source": [
    "import numpy as np\n",
    "import pandas as pd \n",
    "import seaborn as sns\n",
    "import matplotlib.pyplot as plt\n",
    "import warnings\n",
    "warnings.filterwarnings('ignore')\n",
    "import os\n",
    "for dirname, _, filenames in os.walk('/kaggle/input'):\n",
    "    for filename in filenames:\n",
    "        print(os.path.join(dirname, filename))\n"
   ]
  },
  {
   "cell_type": "markdown",
   "id": "c9bd558b",
   "metadata": {
    "papermill": {
     "duration": 0.012845,
     "end_time": "2022-10-18T13:32:47.101899",
     "exception": false,
     "start_time": "2022-10-18T13:32:47.089054",
     "status": "completed"
    },
    "tags": []
   },
   "source": [
    "**2. READ ALL THE DATASET**"
   ]
  },
  {
   "cell_type": "code",
   "execution_count": 2,
   "id": "39158823",
   "metadata": {
    "execution": {
     "iopub.execute_input": "2022-10-18T13:32:47.131971Z",
     "iopub.status.busy": "2022-10-18T13:32:47.131209Z",
     "iopub.status.idle": "2022-10-18T13:32:51.256241Z",
     "shell.execute_reply": "2022-10-18T13:32:51.254340Z"
    },
    "papermill": {
     "duration": 4.144762,
     "end_time": "2022-10-18T13:32:51.259848",
     "exception": false,
     "start_time": "2022-10-18T13:32:47.115086",
     "status": "completed"
    },
    "tags": []
   },
   "outputs": [],
   "source": [
    "customer = pd.read_csv('../input/brazilian-ecommerce/olist_customers_dataset.csv')\n",
    "geolocation = pd.read_csv('../input/brazilian-ecommerce/olist_geolocation_dataset.csv')\n",
    "oitems = pd.read_csv('../input/brazilian-ecommerce/olist_order_items_dataset.csv')\n",
    "opayments = pd.read_csv('../input/brazilian-ecommerce/olist_order_payments_dataset.csv')\n",
    "oreview = pd.read_csv('../input/brazilian-ecommerce/olist_order_reviews_dataset.csv')\n",
    "orders = pd.read_csv('../input/brazilian-ecommerce/olist_orders_dataset.csv')\n",
    "products = pd.read_csv('../input/brazilian-ecommerce/olist_products_dataset.csv')\n",
    "sellers = pd.read_csv('../input/brazilian-ecommerce/olist_sellers_dataset.csv')\n",
    "pcategory = pd.read_csv('../input/brazilian-ecommerce/product_category_name_translation.csv')"
   ]
  },
  {
   "cell_type": "markdown",
   "id": "05989a1a",
   "metadata": {
    "papermill": {
     "duration": 0.013473,
     "end_time": "2022-10-18T13:32:51.287815",
     "exception": false,
     "start_time": "2022-10-18T13:32:51.274342",
     "status": "completed"
    },
    "tags": []
   },
   "source": [
    "**3. BUILDING THE NEWDATASET WITH SEVERAL SEGMENTATION**"
   ]
  },
  {
   "cell_type": "markdown",
   "id": "6eccde2e",
   "metadata": {
    "papermill": {
     "duration": 0.013784,
     "end_time": "2022-10-18T13:32:51.315868",
     "exception": false,
     "start_time": "2022-10-18T13:32:51.302084",
     "status": "completed"
    },
    "tags": []
   },
   "source": [
    "**====SEGMENTATION BASED ON PRODUCTS DIMENSION====**"
   ]
  },
  {
   "cell_type": "code",
   "execution_count": 3,
   "id": "01cb70e4",
   "metadata": {
    "execution": {
     "iopub.execute_input": "2022-10-18T13:32:51.346802Z",
     "iopub.status.busy": "2022-10-18T13:32:51.346259Z",
     "iopub.status.idle": "2022-10-18T13:32:51.697865Z",
     "shell.execute_reply": "2022-10-18T13:32:51.696301Z"
    },
    "papermill": {
     "duration": 0.371553,
     "end_time": "2022-10-18T13:32:51.701028",
     "exception": false,
     "start_time": "2022-10-18T13:32:51.329475",
     "status": "completed"
    },
    "tags": []
   },
   "outputs": [],
   "source": [
    "#merging dataset yang dibutuhkan untuk segmentasi\n",
    "op = pd.merge(oitems, products)\n",
    "opo = pd.merge(op, orders)"
   ]
  },
  {
   "cell_type": "code",
   "execution_count": 4,
   "id": "c828c097",
   "metadata": {
    "execution": {
     "iopub.execute_input": "2022-10-18T13:32:51.731542Z",
     "iopub.status.busy": "2022-10-18T13:32:51.731140Z",
     "iopub.status.idle": "2022-10-18T13:32:51.865890Z",
     "shell.execute_reply": "2022-10-18T13:32:51.864565Z"
    },
    "papermill": {
     "duration": 0.153247,
     "end_time": "2022-10-18T13:32:51.868353",
     "exception": false,
     "start_time": "2022-10-18T13:32:51.715106",
     "status": "completed"
    },
    "tags": []
   },
   "outputs": [
    {
     "data": {
      "text/plain": [
       "order_id                            0\n",
       "order_item_id                       0\n",
       "product_id                          0\n",
       "seller_id                           0\n",
       "shipping_limit_date                 0\n",
       "price                               0\n",
       "freight_value                       0\n",
       "product_category_name            1603\n",
       "product_name_lenght              1603\n",
       "product_description_lenght       1603\n",
       "product_photos_qty               1603\n",
       "product_weight_g                   18\n",
       "product_length_cm                  18\n",
       "product_height_cm                  18\n",
       "product_width_cm                   18\n",
       "customer_id                         0\n",
       "order_status                        0\n",
       "order_purchase_timestamp            0\n",
       "order_approved_at                  15\n",
       "order_delivered_carrier_date     1194\n",
       "order_delivered_customer_date    2454\n",
       "order_estimated_delivery_date       0\n",
       "dtype: int64"
      ]
     },
     "execution_count": 4,
     "metadata": {},
     "output_type": "execute_result"
    }
   ],
   "source": [
    "#mencari missing value\n",
    "opo.isnull().sum(axis=0)"
   ]
  },
  {
   "cell_type": "markdown",
   "id": "f90c438e",
   "metadata": {
    "papermill": {
     "duration": 0.013239,
     "end_time": "2022-10-18T13:32:51.895680",
     "exception": false,
     "start_time": "2022-10-18T13:32:51.882441",
     "status": "completed"
    },
    "tags": []
   },
   "source": [
    "**##Cleaning the missing value of column that we want to use**"
   ]
  },
  {
   "cell_type": "code",
   "execution_count": 5,
   "id": "8ccf0bd0",
   "metadata": {
    "execution": {
     "iopub.execute_input": "2022-10-18T13:32:51.926461Z",
     "iopub.status.busy": "2022-10-18T13:32:51.925577Z",
     "iopub.status.idle": "2022-10-18T13:32:52.361092Z",
     "shell.execute_reply": "2022-10-18T13:32:52.359751Z"
    },
    "papermill": {
     "duration": 0.45407,
     "end_time": "2022-10-18T13:32:52.363665",
     "exception": false,
     "start_time": "2022-10-18T13:32:51.909595",
     "status": "completed"
    },
    "tags": []
   },
   "outputs": [
    {
     "data": {
      "text/plain": [
       "order_id                            0\n",
       "order_item_id                       0\n",
       "product_id                          0\n",
       "seller_id                           0\n",
       "shipping_limit_date                 0\n",
       "price                               0\n",
       "freight_value                       0\n",
       "product_category_name            1586\n",
       "product_name_lenght              1586\n",
       "product_description_lenght       1586\n",
       "product_photos_qty               1586\n",
       "product_weight_g                    0\n",
       "product_length_cm                   0\n",
       "product_height_cm                   0\n",
       "product_width_cm                    0\n",
       "customer_id                         0\n",
       "order_status                        0\n",
       "order_purchase_timestamp            0\n",
       "order_approved_at                  15\n",
       "order_delivered_carrier_date     1194\n",
       "order_delivered_customer_date    2454\n",
       "order_estimated_delivery_date       0\n",
       "dtype: int64"
      ]
     },
     "execution_count": 5,
     "metadata": {},
     "output_type": "execute_result"
    }
   ],
   "source": [
    "#Membersihkan missing value untuk kolom yang akan digunakan sebagai attribute dataset baru\n",
    "opo = opo[pd.notnull(opo['product_weight_g'])]\n",
    "opo = opo[pd.notnull(opo['product_length_cm'])]\n",
    "opo = opo[pd.notnull(opo['product_height_cm'])]\n",
    "opo = opo[pd.notnull(opo['product_width_cm'])]\n",
    "opo.isnull().sum(axis=0)"
   ]
  },
  {
   "cell_type": "code",
   "execution_count": 6,
   "id": "cc848e2a",
   "metadata": {
    "execution": {
     "iopub.execute_input": "2022-10-18T13:32:52.394335Z",
     "iopub.status.busy": "2022-10-18T13:32:52.393918Z",
     "iopub.status.idle": "2022-10-18T13:32:52.424386Z",
     "shell.execute_reply": "2022-10-18T13:32:52.422324Z"
    },
    "papermill": {
     "duration": 0.049226,
     "end_time": "2022-10-18T13:32:52.427363",
     "exception": false,
     "start_time": "2022-10-18T13:32:52.378137",
     "status": "completed"
    },
    "tags": []
   },
   "outputs": [
    {
     "data": {
      "text/html": [
       "<div>\n",
       "<style scoped>\n",
       "    .dataframe tbody tr th:only-of-type {\n",
       "        vertical-align: middle;\n",
       "    }\n",
       "\n",
       "    .dataframe tbody tr th {\n",
       "        vertical-align: top;\n",
       "    }\n",
       "\n",
       "    .dataframe thead th {\n",
       "        text-align: right;\n",
       "    }\n",
       "</style>\n",
       "<table border=\"1\" class=\"dataframe\">\n",
       "  <thead>\n",
       "    <tr style=\"text-align: right;\">\n",
       "      <th></th>\n",
       "      <th>customer_id</th>\n",
       "      <th>product_weight_g</th>\n",
       "      <th>product_length_cm</th>\n",
       "      <th>product_height_cm</th>\n",
       "      <th>product_width_cm</th>\n",
       "      <th>price</th>\n",
       "      <th>product_dimension</th>\n",
       "    </tr>\n",
       "  </thead>\n",
       "  <tbody>\n",
       "    <tr>\n",
       "      <th>0</th>\n",
       "      <td>3ce436f183e68e07877b285a838db11a</td>\n",
       "      <td>650.0</td>\n",
       "      <td>28.0</td>\n",
       "      <td>9.0</td>\n",
       "      <td>14.0</td>\n",
       "      <td>58.9</td>\n",
       "      <td>3528.0</td>\n",
       "    </tr>\n",
       "    <tr>\n",
       "      <th>1</th>\n",
       "      <td>e6eecc5a77de221464d1c4eaff0a9b64</td>\n",
       "      <td>650.0</td>\n",
       "      <td>28.0</td>\n",
       "      <td>9.0</td>\n",
       "      <td>14.0</td>\n",
       "      <td>55.9</td>\n",
       "      <td>3528.0</td>\n",
       "    </tr>\n",
       "    <tr>\n",
       "      <th>2</th>\n",
       "      <td>4ef55bf80f711b372afebcb7c715344a</td>\n",
       "      <td>650.0</td>\n",
       "      <td>28.0</td>\n",
       "      <td>9.0</td>\n",
       "      <td>14.0</td>\n",
       "      <td>64.9</td>\n",
       "      <td>3528.0</td>\n",
       "    </tr>\n",
       "    <tr>\n",
       "      <th>3</th>\n",
       "      <td>30407a72ad8b3f4df4d15369126b20c9</td>\n",
       "      <td>650.0</td>\n",
       "      <td>28.0</td>\n",
       "      <td>9.0</td>\n",
       "      <td>14.0</td>\n",
       "      <td>58.9</td>\n",
       "      <td>3528.0</td>\n",
       "    </tr>\n",
       "    <tr>\n",
       "      <th>4</th>\n",
       "      <td>91a792fef70ecd8cc69d3c7feb3d12da</td>\n",
       "      <td>650.0</td>\n",
       "      <td>28.0</td>\n",
       "      <td>9.0</td>\n",
       "      <td>14.0</td>\n",
       "      <td>58.9</td>\n",
       "      <td>3528.0</td>\n",
       "    </tr>\n",
       "  </tbody>\n",
       "</table>\n",
       "</div>"
      ],
      "text/plain": [
       "                        customer_id  product_weight_g  product_length_cm  \\\n",
       "0  3ce436f183e68e07877b285a838db11a             650.0               28.0   \n",
       "1  e6eecc5a77de221464d1c4eaff0a9b64             650.0               28.0   \n",
       "2  4ef55bf80f711b372afebcb7c715344a             650.0               28.0   \n",
       "3  30407a72ad8b3f4df4d15369126b20c9             650.0               28.0   \n",
       "4  91a792fef70ecd8cc69d3c7feb3d12da             650.0               28.0   \n",
       "\n",
       "   product_height_cm  product_width_cm  price  product_dimension  \n",
       "0                9.0              14.0   58.9             3528.0  \n",
       "1                9.0              14.0   55.9             3528.0  \n",
       "2                9.0              14.0   64.9             3528.0  \n",
       "3                9.0              14.0   58.9             3528.0  \n",
       "4                9.0              14.0   58.9             3528.0  "
      ]
     },
     "execution_count": 6,
     "metadata": {},
     "output_type": "execute_result"
    }
   ],
   "source": [
    "#MEmbuat kolom baru dengan fungsi operator sederhana\n",
    "dp = opo[['customer_id', 'product_weight_g', 'product_length_cm', 'product_height_cm', 'product_width_cm', 'price']]\n",
    "dp['product_dimension'] = (opo.product_length_cm * opo.product_height_cm * opo.product_width_cm)\n",
    "dp.head()"
   ]
  },
  {
   "cell_type": "code",
   "execution_count": 7,
   "id": "89bf404f",
   "metadata": {
    "execution": {
     "iopub.execute_input": "2022-10-18T13:32:52.462208Z",
     "iopub.status.busy": "2022-10-18T13:32:52.461395Z",
     "iopub.status.idle": "2022-10-18T13:32:52.471649Z",
     "shell.execute_reply": "2022-10-18T13:32:52.470627Z"
    },
    "papermill": {
     "duration": 0.031614,
     "end_time": "2022-10-18T13:32:52.474478",
     "exception": false,
     "start_time": "2022-10-18T13:32:52.442864",
     "status": "completed"
    },
    "tags": []
   },
   "outputs": [
    {
     "data": {
      "text/plain": [
       "168.0"
      ]
     },
     "execution_count": 7,
     "metadata": {},
     "output_type": "execute_result"
    }
   ],
   "source": [
    "dp['product_dimension'].min()"
   ]
  },
  {
   "cell_type": "code",
   "execution_count": 8,
   "id": "badb5fb2",
   "metadata": {
    "execution": {
     "iopub.execute_input": "2022-10-18T13:32:52.506905Z",
     "iopub.status.busy": "2022-10-18T13:32:52.506229Z",
     "iopub.status.idle": "2022-10-18T13:32:52.514391Z",
     "shell.execute_reply": "2022-10-18T13:32:52.513131Z"
    },
    "papermill": {
     "duration": 0.027466,
     "end_time": "2022-10-18T13:32:52.517142",
     "exception": false,
     "start_time": "2022-10-18T13:32:52.489676",
     "status": "completed"
    },
    "tags": []
   },
   "outputs": [
    {
     "data": {
      "text/plain": [
       "296208.0"
      ]
     },
     "execution_count": 8,
     "metadata": {},
     "output_type": "execute_result"
    }
   ],
   "source": [
    "dp['product_dimension'].max()"
   ]
  },
  {
   "cell_type": "code",
   "execution_count": 9,
   "id": "74c60b9a",
   "metadata": {
    "execution": {
     "iopub.execute_input": "2022-10-18T13:32:52.550044Z",
     "iopub.status.busy": "2022-10-18T13:32:52.549623Z",
     "iopub.status.idle": "2022-10-18T13:32:52.557915Z",
     "shell.execute_reply": "2022-10-18T13:32:52.556804Z"
    },
    "papermill": {
     "duration": 0.026614,
     "end_time": "2022-10-18T13:32:52.560586",
     "exception": false,
     "start_time": "2022-10-18T13:32:52.533972",
     "status": "completed"
    },
    "tags": []
   },
   "outputs": [
    {
     "data": {
      "text/plain": [
       "0.0"
      ]
     },
     "execution_count": 9,
     "metadata": {},
     "output_type": "execute_result"
    }
   ],
   "source": [
    "dp['product_weight_g'].min()"
   ]
  },
  {
   "cell_type": "code",
   "execution_count": 10,
   "id": "2e1b4128",
   "metadata": {
    "execution": {
     "iopub.execute_input": "2022-10-18T13:32:52.592469Z",
     "iopub.status.busy": "2022-10-18T13:32:52.591085Z",
     "iopub.status.idle": "2022-10-18T13:32:52.601989Z",
     "shell.execute_reply": "2022-10-18T13:32:52.600675Z"
    },
    "papermill": {
     "duration": 0.029545,
     "end_time": "2022-10-18T13:32:52.604488",
     "exception": false,
     "start_time": "2022-10-18T13:32:52.574943",
     "status": "completed"
    },
    "tags": []
   },
   "outputs": [
    {
     "data": {
      "text/plain": [
       "40425.0"
      ]
     },
     "execution_count": 10,
     "metadata": {},
     "output_type": "execute_result"
    }
   ],
   "source": [
    "dp['product_weight_g'].max()"
   ]
  },
  {
   "cell_type": "code",
   "execution_count": 11,
   "id": "fc994407",
   "metadata": {
    "execution": {
     "iopub.execute_input": "2022-10-18T13:32:52.635686Z",
     "iopub.status.busy": "2022-10-18T13:32:52.633973Z",
     "iopub.status.idle": "2022-10-18T13:32:52.643201Z",
     "shell.execute_reply": "2022-10-18T13:32:52.642093Z"
    },
    "papermill": {
     "duration": 0.027613,
     "end_time": "2022-10-18T13:32:52.646176",
     "exception": false,
     "start_time": "2022-10-18T13:32:52.618563",
     "status": "completed"
    },
    "tags": []
   },
   "outputs": [
    {
     "data": {
      "text/plain": [
       "6735.0"
      ]
     },
     "execution_count": 11,
     "metadata": {},
     "output_type": "execute_result"
    }
   ],
   "source": [
    "dp['price'].max()"
   ]
  },
  {
   "cell_type": "code",
   "execution_count": 12,
   "id": "5a7b56bb",
   "metadata": {
    "execution": {
     "iopub.execute_input": "2022-10-18T13:32:52.679223Z",
     "iopub.status.busy": "2022-10-18T13:32:52.677797Z",
     "iopub.status.idle": "2022-10-18T13:32:52.688262Z",
     "shell.execute_reply": "2022-10-18T13:32:52.686981Z"
    },
    "papermill": {
     "duration": 0.029165,
     "end_time": "2022-10-18T13:32:52.690915",
     "exception": false,
     "start_time": "2022-10-18T13:32:52.661750",
     "status": "completed"
    },
    "tags": []
   },
   "outputs": [
    {
     "data": {
      "text/plain": [
       "0.85"
      ]
     },
     "execution_count": 12,
     "metadata": {},
     "output_type": "execute_result"
    }
   ],
   "source": [
    "dp['price'].min()"
   ]
  },
  {
   "cell_type": "code",
   "execution_count": 13,
   "id": "d0788284",
   "metadata": {
    "execution": {
     "iopub.execute_input": "2022-10-18T13:32:52.722999Z",
     "iopub.status.busy": "2022-10-18T13:32:52.722268Z",
     "iopub.status.idle": "2022-10-18T13:33:00.991354Z",
     "shell.execute_reply": "2022-10-18T13:33:00.989817Z"
    },
    "papermill": {
     "duration": 8.288494,
     "end_time": "2022-10-18T13:33:00.994542",
     "exception": false,
     "start_time": "2022-10-18T13:32:52.706048",
     "status": "completed"
    },
    "tags": []
   },
   "outputs": [
    {
     "data": {
      "text/html": [
       "<div>\n",
       "<style scoped>\n",
       "    .dataframe tbody tr th:only-of-type {\n",
       "        vertical-align: middle;\n",
       "    }\n",
       "\n",
       "    .dataframe tbody tr th {\n",
       "        vertical-align: top;\n",
       "    }\n",
       "\n",
       "    .dataframe thead th {\n",
       "        text-align: right;\n",
       "    }\n",
       "</style>\n",
       "<table border=\"1\" class=\"dataframe\">\n",
       "  <thead>\n",
       "    <tr style=\"text-align: right;\">\n",
       "      <th></th>\n",
       "      <th>customer_id</th>\n",
       "      <th>product_dimension</th>\n",
       "      <th>product_size</th>\n",
       "      <th>product_weight_segment</th>\n",
       "      <th>price_class</th>\n",
       "    </tr>\n",
       "  </thead>\n",
       "  <tbody>\n",
       "    <tr>\n",
       "      <th>0</th>\n",
       "      <td>3ce436f183e68e07877b285a838db11a</td>\n",
       "      <td>3528.0</td>\n",
       "      <td>Small</td>\n",
       "      <td>Light</td>\n",
       "      <td>Cheap</td>\n",
       "    </tr>\n",
       "    <tr>\n",
       "      <th>1</th>\n",
       "      <td>e6eecc5a77de221464d1c4eaff0a9b64</td>\n",
       "      <td>3528.0</td>\n",
       "      <td>Small</td>\n",
       "      <td>Light</td>\n",
       "      <td>Cheap</td>\n",
       "    </tr>\n",
       "    <tr>\n",
       "      <th>2</th>\n",
       "      <td>4ef55bf80f711b372afebcb7c715344a</td>\n",
       "      <td>3528.0</td>\n",
       "      <td>Small</td>\n",
       "      <td>Light</td>\n",
       "      <td>Cheap</td>\n",
       "    </tr>\n",
       "    <tr>\n",
       "      <th>3</th>\n",
       "      <td>30407a72ad8b3f4df4d15369126b20c9</td>\n",
       "      <td>3528.0</td>\n",
       "      <td>Small</td>\n",
       "      <td>Light</td>\n",
       "      <td>Cheap</td>\n",
       "    </tr>\n",
       "    <tr>\n",
       "      <th>4</th>\n",
       "      <td>91a792fef70ecd8cc69d3c7feb3d12da</td>\n",
       "      <td>3528.0</td>\n",
       "      <td>Small</td>\n",
       "      <td>Light</td>\n",
       "      <td>Cheap</td>\n",
       "    </tr>\n",
       "  </tbody>\n",
       "</table>\n",
       "</div>"
      ],
      "text/plain": [
       "                        customer_id  product_dimension product_size  \\\n",
       "0  3ce436f183e68e07877b285a838db11a             3528.0        Small   \n",
       "1  e6eecc5a77de221464d1c4eaff0a9b64             3528.0        Small   \n",
       "2  4ef55bf80f711b372afebcb7c715344a             3528.0        Small   \n",
       "3  30407a72ad8b3f4df4d15369126b20c9             3528.0        Small   \n",
       "4  91a792fef70ecd8cc69d3c7feb3d12da             3528.0        Small   \n",
       "\n",
       "  product_weight_segment price_class  \n",
       "0                  Light       Cheap  \n",
       "1                  Light       Cheap  \n",
       "2                  Light       Cheap  \n",
       "3                  Light       Cheap  \n",
       "4                  Light       Cheap  "
      ]
     },
     "execution_count": 13,
     "metadata": {},
     "output_type": "execute_result"
    }
   ],
   "source": [
    "#Mendefinisikan beberapa fungsi yang akan digunakan untuk membuat kolom baru \n",
    "def get_dimensions (dp):\n",
    "    if dp['product_dimension'] > 148104:\n",
    "        return 'Large'\n",
    "    elif (dp['product_dimension'] <= 148104) and (dp['product_dimension'] > 37026):\n",
    "        return 'Medium'\n",
    "    elif dp['product_dimension'] <= 37026: \n",
    "        return 'Small'\n",
    "def get_weight (dp):\n",
    "    if dp['product_weight_g'] > 20212.5:\n",
    "        return 'Heavy'\n",
    "    elif (dp['product_weight_g'] <= 25265.625) and (dp['product_dimension'] > 15159.375):\n",
    "        return 'Medium'\n",
    "    elif dp['product_weight_g'] <= 15159.375: \n",
    "        return 'Light'\n",
    "def price_class (dp):\n",
    "     if dp['price'] >= 4209.375:\n",
    "        return 'Expensive'\n",
    "     elif (dp['price'] < 4209.375) and (dp['price'] >= 2525.625):\n",
    "        return 'Intermediete'\n",
    "     elif dp['price'] < 2525.625:\n",
    "        return 'Cheap'\n",
    "#Kolom baru yang akan mengaplikasikan fungsi yang dibuat sebelumnya\n",
    "dp['product_size']=dp.apply(get_dimensions,axis=1)\n",
    "dp['product_weight_segment']=dp.apply(get_weight,axis=1)\n",
    "dp['price_class'] = dp.apply(price_class, axis=1)\n",
    "dp = dp[['customer_id', 'product_dimension', 'product_size', 'product_weight_segment', 'price_class']]\n",
    "size = pd.DataFrame(dp)\n",
    "size.head()"
   ]
  },
  {
   "cell_type": "markdown",
   "id": "a444fe00",
   "metadata": {
    "papermill": {
     "duration": 0.014801,
     "end_time": "2022-10-18T13:33:01.024861",
     "exception": false,
     "start_time": "2022-10-18T13:33:01.010060",
     "status": "completed"
    },
    "tags": []
   },
   "source": [
    "**====Customer RFM(Recency, Frequency, Monetary) Segmentation====**"
   ]
  },
  {
   "cell_type": "code",
   "execution_count": 14,
   "id": "cef2cdad",
   "metadata": {
    "execution": {
     "iopub.execute_input": "2022-10-18T13:33:01.057357Z",
     "iopub.status.busy": "2022-10-18T13:33:01.056950Z",
     "iopub.status.idle": "2022-10-18T13:33:01.381202Z",
     "shell.execute_reply": "2022-10-18T13:33:01.379758Z"
    },
    "papermill": {
     "duration": 0.344167,
     "end_time": "2022-10-18T13:33:01.383902",
     "exception": false,
     "start_time": "2022-10-18T13:33:01.039735",
     "status": "completed"
    },
    "tags": []
   },
   "outputs": [],
   "source": [
    "#merging dataset yang dibutuhkan untuk segmentasi\n",
    "co = pd.merge(customer, orders)\n",
    "cop = pd.merge (co, opayments)"
   ]
  },
  {
   "cell_type": "code",
   "execution_count": 15,
   "id": "6309661b",
   "metadata": {
    "execution": {
     "iopub.execute_input": "2022-10-18T13:33:01.415901Z",
     "iopub.status.busy": "2022-10-18T13:33:01.415472Z",
     "iopub.status.idle": "2022-10-18T13:33:01.533892Z",
     "shell.execute_reply": "2022-10-18T13:33:01.532226Z"
    },
    "papermill": {
     "duration": 0.137295,
     "end_time": "2022-10-18T13:33:01.536895",
     "exception": false,
     "start_time": "2022-10-18T13:33:01.399600",
     "status": "completed"
    },
    "tags": []
   },
   "outputs": [
    {
     "data": {
      "text/plain": [
       "customer_id                         0\n",
       "customer_unique_id                  0\n",
       "customer_zip_code_prefix            0\n",
       "customer_city                       0\n",
       "customer_state                      0\n",
       "order_id                            0\n",
       "order_status                        0\n",
       "order_purchase_timestamp            0\n",
       "order_approved_at                 175\n",
       "order_delivered_carrier_date     1888\n",
       "order_delivered_customer_date    3132\n",
       "order_estimated_delivery_date       0\n",
       "payment_sequential                  0\n",
       "payment_type                        0\n",
       "payment_installments                0\n",
       "payment_value                       0\n",
       "dtype: int64"
      ]
     },
     "execution_count": 15,
     "metadata": {},
     "output_type": "execute_result"
    }
   ],
   "source": [
    "#MENCARI MISSING VALUE\n",
    "cop.isnull().sum(axis=0)"
   ]
  },
  {
   "cell_type": "markdown",
   "id": "3d69ec41",
   "metadata": {
    "papermill": {
     "duration": 0.015006,
     "end_time": "2022-10-18T13:33:01.567275",
     "exception": false,
     "start_time": "2022-10-18T13:33:01.552269",
     "status": "completed"
    },
    "tags": []
   },
   "source": [
    "**#CLEAN THE MISSING VALUE#**"
   ]
  },
  {
   "cell_type": "code",
   "execution_count": 16,
   "id": "547ecd87",
   "metadata": {
    "execution": {
     "iopub.execute_input": "2022-10-18T13:33:01.601390Z",
     "iopub.status.busy": "2022-10-18T13:33:01.600865Z",
     "iopub.status.idle": "2022-10-18T13:33:01.862270Z",
     "shell.execute_reply": "2022-10-18T13:33:01.860569Z"
    },
    "papermill": {
     "duration": 0.282199,
     "end_time": "2022-10-18T13:33:01.865413",
     "exception": false,
     "start_time": "2022-10-18T13:33:01.583214",
     "status": "completed"
    },
    "tags": []
   },
   "outputs": [],
   "source": [
    "cop = cop[pd.notnull(cop['order_approved_at'])]\n",
    "cop = cop[pd.notnull(cop['order_delivered_carrier_date'])]\n",
    "cop = cop[pd.notnull(cop['order_delivered_customer_date'])]"
   ]
  },
  {
   "cell_type": "code",
   "execution_count": 17,
   "id": "90857a18",
   "metadata": {
    "execution": {
     "iopub.execute_input": "2022-10-18T13:33:01.897506Z",
     "iopub.status.busy": "2022-10-18T13:33:01.897100Z",
     "iopub.status.idle": "2022-10-18T13:33:02.009516Z",
     "shell.execute_reply": "2022-10-18T13:33:02.008168Z"
    },
    "papermill": {
     "duration": 0.132581,
     "end_time": "2022-10-18T13:33:02.012723",
     "exception": false,
     "start_time": "2022-10-18T13:33:01.880142",
     "status": "completed"
    },
    "tags": []
   },
   "outputs": [
    {
     "data": {
      "text/plain": [
       "customer_id                      0\n",
       "customer_unique_id               0\n",
       "customer_zip_code_prefix         0\n",
       "customer_city                    0\n",
       "customer_state                   0\n",
       "order_id                         0\n",
       "order_status                     0\n",
       "order_purchase_timestamp         0\n",
       "order_approved_at                0\n",
       "order_delivered_carrier_date     0\n",
       "order_delivered_customer_date    0\n",
       "order_estimated_delivery_date    0\n",
       "payment_sequential               0\n",
       "payment_type                     0\n",
       "payment_installments             0\n",
       "payment_value                    0\n",
       "dtype: int64"
      ]
     },
     "execution_count": 17,
     "metadata": {},
     "output_type": "execute_result"
    }
   ],
   "source": [
    "cop.isnull().sum(axis=0)"
   ]
  },
  {
   "cell_type": "code",
   "execution_count": 18,
   "id": "af3c3648",
   "metadata": {
    "execution": {
     "iopub.execute_input": "2022-10-18T13:33:02.044745Z",
     "iopub.status.busy": "2022-10-18T13:33:02.044310Z",
     "iopub.status.idle": "2022-10-18T13:33:02.080296Z",
     "shell.execute_reply": "2022-10-18T13:33:02.078961Z"
    },
    "papermill": {
     "duration": 0.055473,
     "end_time": "2022-10-18T13:33:02.082962",
     "exception": false,
     "start_time": "2022-10-18T13:33:02.027489",
     "status": "completed"
    },
    "tags": []
   },
   "outputs": [
    {
     "data": {
      "text/plain": [
       "'2018-08-29 15:00:37'"
      ]
     },
     "execution_count": 18,
     "metadata": {},
     "output_type": "execute_result"
    }
   ],
   "source": [
    "cop['order_purchase_timestamp'].max()"
   ]
  },
  {
   "cell_type": "code",
   "execution_count": 19,
   "id": "5b01e424",
   "metadata": {
    "execution": {
     "iopub.execute_input": "2022-10-18T13:33:02.116197Z",
     "iopub.status.busy": "2022-10-18T13:33:02.115799Z",
     "iopub.status.idle": "2022-10-18T13:33:02.183602Z",
     "shell.execute_reply": "2022-10-18T13:33:02.182207Z"
    },
    "papermill": {
     "duration": 0.087816,
     "end_time": "2022-10-18T13:33:02.186777",
     "exception": false,
     "start_time": "2022-10-18T13:33:02.098961",
     "status": "completed"
    },
    "tags": []
   },
   "outputs": [],
   "source": [
    "#mendefinisikan sebuah data yaitu tanggal paling terakhir orderan dibuat\n",
    "import datetime as dt\n",
    "now = dt.datetime(2018, 8, 30)\n",
    "#mengubah tipe data pada kolom order_purchase_timestamp dari int menjadi date\n",
    "cop['order_purchase_timestamp'] = pd.to_datetime(cop['order_purchase_timestamp'])"
   ]
  },
  {
   "cell_type": "code",
   "execution_count": 20,
   "id": "45a31dbc",
   "metadata": {
    "execution": {
     "iopub.execute_input": "2022-10-18T13:33:02.218519Z",
     "iopub.status.busy": "2022-10-18T13:33:02.217544Z",
     "iopub.status.idle": "2022-10-18T13:33:20.832824Z",
     "shell.execute_reply": "2022-10-18T13:33:20.831163Z"
    },
    "papermill": {
     "duration": 18.634177,
     "end_time": "2022-10-18T13:33:20.835649",
     "exception": false,
     "start_time": "2022-10-18T13:33:02.201472",
     "status": "completed"
    },
    "tags": []
   },
   "outputs": [
    {
     "data": {
      "text/html": [
       "<div>\n",
       "<style scoped>\n",
       "    .dataframe tbody tr th:only-of-type {\n",
       "        vertical-align: middle;\n",
       "    }\n",
       "\n",
       "    .dataframe tbody tr th {\n",
       "        vertical-align: top;\n",
       "    }\n",
       "\n",
       "    .dataframe thead th {\n",
       "        text-align: right;\n",
       "    }\n",
       "</style>\n",
       "<table border=\"1\" class=\"dataframe\">\n",
       "  <thead>\n",
       "    <tr style=\"text-align: right;\">\n",
       "      <th></th>\n",
       "      <th>Recency</th>\n",
       "      <th>Frequency</th>\n",
       "      <th>Monetary</th>\n",
       "    </tr>\n",
       "    <tr>\n",
       "      <th>customer_id</th>\n",
       "      <th></th>\n",
       "      <th></th>\n",
       "      <th></th>\n",
       "    </tr>\n",
       "  </thead>\n",
       "  <tbody>\n",
       "    <tr>\n",
       "      <th>00012a2ce6f8dcda20d059ce98491703</th>\n",
       "      <td>288</td>\n",
       "      <td>1</td>\n",
       "      <td>114.74</td>\n",
       "    </tr>\n",
       "    <tr>\n",
       "      <th>000161a058600d5901f007fab4c27140</th>\n",
       "      <td>409</td>\n",
       "      <td>1</td>\n",
       "      <td>67.41</td>\n",
       "    </tr>\n",
       "    <tr>\n",
       "      <th>0001fd6190edaaf884bcaf3d49edf079</th>\n",
       "      <td>547</td>\n",
       "      <td>1</td>\n",
       "      <td>195.42</td>\n",
       "    </tr>\n",
       "    <tr>\n",
       "      <th>0002414f95344307404f0ace7a26f1d5</th>\n",
       "      <td>378</td>\n",
       "      <td>1</td>\n",
       "      <td>179.35</td>\n",
       "    </tr>\n",
       "    <tr>\n",
       "      <th>000379cdec625522490c315e70c7a9fb</th>\n",
       "      <td>149</td>\n",
       "      <td>1</td>\n",
       "      <td>107.01</td>\n",
       "    </tr>\n",
       "  </tbody>\n",
       "</table>\n",
       "</div>"
      ],
      "text/plain": [
       "                                  Recency  Frequency  Monetary\n",
       "customer_id                                                   \n",
       "00012a2ce6f8dcda20d059ce98491703      288          1    114.74\n",
       "000161a058600d5901f007fab4c27140      409          1     67.41\n",
       "0001fd6190edaaf884bcaf3d49edf079      547          1    195.42\n",
       "0002414f95344307404f0ace7a26f1d5      378          1    179.35\n",
       "000379cdec625522490c315e70c7a9fb      149          1    107.01"
      ]
     },
     "execution_count": 20,
     "metadata": {},
     "output_type": "execute_result"
    }
   ],
   "source": [
    "#perhitungan nilai RFM\n",
    "rfmtable = cop.groupby('customer_id').agg({'order_purchase_timestamp': \n",
    "lambda x: (now - x.max()).days,'order_id': lambda x:len(x),\n",
    "'payment_value':lambda x: x.sum()})\n",
    "rfmtable['order_purchase_timestamp'] = rfmtable['order_purchase_timestamp'].astype(int)\n",
    "rfmtable.rename(columns={'order_purchase_timestamp': 'Recency', \n",
    "                         'order_id': 'Frequency', \n",
    "                         'payment_value': 'Monetary'}, inplace=True)\n",
    "rfmtable.head()"
   ]
  },
  {
   "cell_type": "markdown",
   "id": "802675ad",
   "metadata": {
    "papermill": {
     "duration": 0.01491,
     "end_time": "2022-10-18T13:33:20.865952",
     "exception": false,
     "start_time": "2022-10-18T13:33:20.851042",
     "status": "completed"
    },
    "tags": []
   },
   "source": [
    "**===RFM SCORE CUSTOMER SEGMENTATION===**"
   ]
  },
  {
   "cell_type": "code",
   "execution_count": 21,
   "id": "29313fd4",
   "metadata": {
    "execution": {
     "iopub.execute_input": "2022-10-18T13:33:20.897193Z",
     "iopub.status.busy": "2022-10-18T13:33:20.896787Z",
     "iopub.status.idle": "2022-10-18T13:33:20.913081Z",
     "shell.execute_reply": "2022-10-18T13:33:20.912028Z"
    },
    "papermill": {
     "duration": 0.034842,
     "end_time": "2022-10-18T13:33:20.915597",
     "exception": false,
     "start_time": "2022-10-18T13:33:20.880755",
     "status": "completed"
    },
    "tags": []
   },
   "outputs": [],
   "source": [
    "#Menggunakan modul quantile untuk mendefinisikan fungsi dalam membuat rumus perhitungan RFM score cluster\n",
    "quantiles = rfmtable.quantile(q=[0.25, 0.5, 0.75])\n",
    "quantiles = quantiles.to_dict()\n",
    "rfm_segment = rfmtable"
   ]
  },
  {
   "cell_type": "code",
   "execution_count": 22,
   "id": "c97eb7ba",
   "metadata": {
    "execution": {
     "iopub.execute_input": "2022-10-18T13:33:20.948993Z",
     "iopub.status.busy": "2022-10-18T13:33:20.948573Z",
     "iopub.status.idle": "2022-10-18T13:33:20.957630Z",
     "shell.execute_reply": "2022-10-18T13:33:20.956410Z"
    },
    "papermill": {
     "duration": 0.029487,
     "end_time": "2022-10-18T13:33:20.960311",
     "exception": false,
     "start_time": "2022-10-18T13:33:20.930824",
     "status": "completed"
    },
    "tags": []
   },
   "outputs": [],
   "source": [
    "#Membuat rumus perhitungan dari nilai RFM dengan iterasi dimana pada kode kali ini saya mengassign nilai hasil terbaik\n",
    "#diwakilkan oleh nilai yang paling kecil\n",
    "def RScore(x,p,d):\n",
    "    if x <= d[p][0.25]:\n",
    "        return 1\n",
    "    elif x <= d[p][0.50]:\n",
    "        return 2\n",
    "    elif x <= d[p][0.75]: \n",
    "        return 3\n",
    "    else:\n",
    "        return 4\n",
    "    \n",
    "def FMScore(x,p,d):\n",
    "    if x <= d[p][0.25]:\n",
    "        return 4\n",
    "    elif x <= d[p][0.50]:\n",
    "        return 3\n",
    "    elif x <= d[p][0.75]: \n",
    "        return 2\n",
    "    else:\n",
    "        return 1"
   ]
  },
  {
   "cell_type": "code",
   "execution_count": 23,
   "id": "5b768683",
   "metadata": {
    "execution": {
     "iopub.execute_input": "2022-10-18T13:33:20.991695Z",
     "iopub.status.busy": "2022-10-18T13:33:20.991271Z",
     "iopub.status.idle": "2022-10-18T13:33:21.282168Z",
     "shell.execute_reply": "2022-10-18T13:33:21.280804Z"
    },
    "papermill": {
     "duration": 0.309675,
     "end_time": "2022-10-18T13:33:21.284953",
     "exception": false,
     "start_time": "2022-10-18T13:33:20.975278",
     "status": "completed"
    },
    "tags": []
   },
   "outputs": [
    {
     "data": {
      "text/html": [
       "<div>\n",
       "<style scoped>\n",
       "    .dataframe tbody tr th:only-of-type {\n",
       "        vertical-align: middle;\n",
       "    }\n",
       "\n",
       "    .dataframe tbody tr th {\n",
       "        vertical-align: top;\n",
       "    }\n",
       "\n",
       "    .dataframe thead th {\n",
       "        text-align: right;\n",
       "    }\n",
       "</style>\n",
       "<table border=\"1\" class=\"dataframe\">\n",
       "  <thead>\n",
       "    <tr style=\"text-align: right;\">\n",
       "      <th></th>\n",
       "      <th>Recency</th>\n",
       "      <th>Frequency</th>\n",
       "      <th>Monetary</th>\n",
       "      <th>R</th>\n",
       "      <th>F</th>\n",
       "      <th>M</th>\n",
       "    </tr>\n",
       "    <tr>\n",
       "      <th>customer_id</th>\n",
       "      <th></th>\n",
       "      <th></th>\n",
       "      <th></th>\n",
       "      <th></th>\n",
       "      <th></th>\n",
       "      <th></th>\n",
       "    </tr>\n",
       "  </thead>\n",
       "  <tbody>\n",
       "    <tr>\n",
       "      <th>00012a2ce6f8dcda20d059ce98491703</th>\n",
       "      <td>288</td>\n",
       "      <td>1</td>\n",
       "      <td>114.74</td>\n",
       "      <td>3</td>\n",
       "      <td>4</td>\n",
       "      <td>2</td>\n",
       "    </tr>\n",
       "    <tr>\n",
       "      <th>000161a058600d5901f007fab4c27140</th>\n",
       "      <td>409</td>\n",
       "      <td>1</td>\n",
       "      <td>67.41</td>\n",
       "      <td>4</td>\n",
       "      <td>4</td>\n",
       "      <td>3</td>\n",
       "    </tr>\n",
       "    <tr>\n",
       "      <th>0001fd6190edaaf884bcaf3d49edf079</th>\n",
       "      <td>547</td>\n",
       "      <td>1</td>\n",
       "      <td>195.42</td>\n",
       "      <td>4</td>\n",
       "      <td>4</td>\n",
       "      <td>1</td>\n",
       "    </tr>\n",
       "  </tbody>\n",
       "</table>\n",
       "</div>"
      ],
      "text/plain": [
       "                                  Recency  Frequency  Monetary  R  F  M\n",
       "customer_id                                                            \n",
       "00012a2ce6f8dcda20d059ce98491703      288          1    114.74  3  4  2\n",
       "000161a058600d5901f007fab4c27140      409          1     67.41  4  4  3\n",
       "0001fd6190edaaf884bcaf3d49edf079      547          1    195.42  4  4  1"
      ]
     },
     "execution_count": 23,
     "metadata": {},
     "output_type": "execute_result"
    }
   ],
   "source": [
    "#Pengaplikasian fungsi sebelumnya untuk membuat kolom baru\n",
    "rfm_segment['R'] = rfm_segment['Recency'].apply(RScore, args=('Recency',quantiles,))\n",
    "rfm_segment['F'] = rfm_segment['Frequency'].apply(FMScore, args=('Frequency',quantiles,))\n",
    "rfm_segment['M'] = rfm_segment['Monetary'].apply(FMScore, args=('Monetary',quantiles,))\n",
    "rfm_segment.head(3)"
   ]
  },
  {
   "cell_type": "code",
   "execution_count": 24,
   "id": "f362f1f5",
   "metadata": {
    "execution": {
     "iopub.execute_input": "2022-10-18T13:33:21.316617Z",
     "iopub.status.busy": "2022-10-18T13:33:21.316234Z",
     "iopub.status.idle": "2022-10-18T13:33:21.422019Z",
     "shell.execute_reply": "2022-10-18T13:33:21.420533Z"
    },
    "papermill": {
     "duration": 0.12456,
     "end_time": "2022-10-18T13:33:21.424607",
     "exception": false,
     "start_time": "2022-10-18T13:33:21.300047",
     "status": "completed"
    },
    "tags": []
   },
   "outputs": [
    {
     "data": {
      "text/html": [
       "<div>\n",
       "<style scoped>\n",
       "    .dataframe tbody tr th:only-of-type {\n",
       "        vertical-align: middle;\n",
       "    }\n",
       "\n",
       "    .dataframe tbody tr th {\n",
       "        vertical-align: top;\n",
       "    }\n",
       "\n",
       "    .dataframe thead th {\n",
       "        text-align: right;\n",
       "    }\n",
       "</style>\n",
       "<table border=\"1\" class=\"dataframe\">\n",
       "  <thead>\n",
       "    <tr style=\"text-align: right;\">\n",
       "      <th></th>\n",
       "      <th>Recency</th>\n",
       "      <th>Frequency</th>\n",
       "      <th>Monetary</th>\n",
       "      <th>R</th>\n",
       "      <th>F</th>\n",
       "      <th>M</th>\n",
       "      <th>RFMScore</th>\n",
       "      <th>Score</th>\n",
       "    </tr>\n",
       "    <tr>\n",
       "      <th>customer_id</th>\n",
       "      <th></th>\n",
       "      <th></th>\n",
       "      <th></th>\n",
       "      <th></th>\n",
       "      <th></th>\n",
       "      <th></th>\n",
       "      <th></th>\n",
       "      <th></th>\n",
       "    </tr>\n",
       "  </thead>\n",
       "  <tbody>\n",
       "    <tr>\n",
       "      <th>00012a2ce6f8dcda20d059ce98491703</th>\n",
       "      <td>288</td>\n",
       "      <td>1</td>\n",
       "      <td>114.74</td>\n",
       "      <td>3</td>\n",
       "      <td>4</td>\n",
       "      <td>2</td>\n",
       "      <td>342</td>\n",
       "      <td>9</td>\n",
       "    </tr>\n",
       "    <tr>\n",
       "      <th>000161a058600d5901f007fab4c27140</th>\n",
       "      <td>409</td>\n",
       "      <td>1</td>\n",
       "      <td>67.41</td>\n",
       "      <td>4</td>\n",
       "      <td>4</td>\n",
       "      <td>3</td>\n",
       "      <td>443</td>\n",
       "      <td>11</td>\n",
       "    </tr>\n",
       "    <tr>\n",
       "      <th>0001fd6190edaaf884bcaf3d49edf079</th>\n",
       "      <td>547</td>\n",
       "      <td>1</td>\n",
       "      <td>195.42</td>\n",
       "      <td>4</td>\n",
       "      <td>4</td>\n",
       "      <td>1</td>\n",
       "      <td>441</td>\n",
       "      <td>9</td>\n",
       "    </tr>\n",
       "  </tbody>\n",
       "</table>\n",
       "</div>"
      ],
      "text/plain": [
       "                                  Recency  Frequency  Monetary  R  F  M  \\\n",
       "customer_id                                                               \n",
       "00012a2ce6f8dcda20d059ce98491703      288          1    114.74  3  4  2   \n",
       "000161a058600d5901f007fab4c27140      409          1     67.41  4  4  3   \n",
       "0001fd6190edaaf884bcaf3d49edf079      547          1    195.42  4  4  1   \n",
       "\n",
       "                                 RFMScore  Score  \n",
       "customer_id                                       \n",
       "00012a2ce6f8dcda20d059ce98491703      342      9  \n",
       "000161a058600d5901f007fab4c27140      443     11  \n",
       "0001fd6190edaaf884bcaf3d49edf079      441      9  "
      ]
     },
     "execution_count": 24,
     "metadata": {},
     "output_type": "execute_result"
    }
   ],
   "source": [
    "rfm_segment['RFMScore'] = rfm_segment.R.map(str) + rfm_segment.F.map(str) + rfm_segment.M.map(str)\n",
    "rfm_segment['Score'] = rfm_segment[['R', 'F', 'M']].sum(axis=1)\n",
    "rfm_segment.head(3)"
   ]
  },
  {
   "cell_type": "code",
   "execution_count": 25,
   "id": "636d68f4",
   "metadata": {
    "execution": {
     "iopub.execute_input": "2022-10-18T13:33:21.457004Z",
     "iopub.status.busy": "2022-10-18T13:33:21.456570Z",
     "iopub.status.idle": "2022-10-18T13:33:23.581187Z",
     "shell.execute_reply": "2022-10-18T13:33:23.579994Z"
    },
    "papermill": {
     "duration": 2.143898,
     "end_time": "2022-10-18T13:33:23.583785",
     "exception": false,
     "start_time": "2022-10-18T13:33:21.439887",
     "status": "completed"
    },
    "tags": []
   },
   "outputs": [
    {
     "data": {
      "text/html": [
       "<div>\n",
       "<style scoped>\n",
       "    .dataframe tbody tr th:only-of-type {\n",
       "        vertical-align: middle;\n",
       "    }\n",
       "\n",
       "    .dataframe tbody tr th {\n",
       "        vertical-align: top;\n",
       "    }\n",
       "\n",
       "    .dataframe thead th {\n",
       "        text-align: right;\n",
       "    }\n",
       "</style>\n",
       "<table border=\"1\" class=\"dataframe\">\n",
       "  <thead>\n",
       "    <tr style=\"text-align: right;\">\n",
       "      <th></th>\n",
       "      <th>customer_id</th>\n",
       "      <th>Recency</th>\n",
       "      <th>Frequency</th>\n",
       "      <th>Monetary</th>\n",
       "      <th>R</th>\n",
       "      <th>F</th>\n",
       "      <th>M</th>\n",
       "      <th>RFMScore</th>\n",
       "      <th>Score</th>\n",
       "      <th>CustomerLevel</th>\n",
       "    </tr>\n",
       "  </thead>\n",
       "  <tbody>\n",
       "    <tr>\n",
       "      <th>0</th>\n",
       "      <td>00012a2ce6f8dcda20d059ce98491703</td>\n",
       "      <td>288</td>\n",
       "      <td>1</td>\n",
       "      <td>114.74</td>\n",
       "      <td>3</td>\n",
       "      <td>4</td>\n",
       "      <td>2</td>\n",
       "      <td>342</td>\n",
       "      <td>9</td>\n",
       "      <td>Silver</td>\n",
       "    </tr>\n",
       "    <tr>\n",
       "      <th>1</th>\n",
       "      <td>000161a058600d5901f007fab4c27140</td>\n",
       "      <td>409</td>\n",
       "      <td>1</td>\n",
       "      <td>67.41</td>\n",
       "      <td>4</td>\n",
       "      <td>4</td>\n",
       "      <td>3</td>\n",
       "      <td>443</td>\n",
       "      <td>11</td>\n",
       "      <td>Bronze</td>\n",
       "    </tr>\n",
       "    <tr>\n",
       "      <th>2</th>\n",
       "      <td>0001fd6190edaaf884bcaf3d49edf079</td>\n",
       "      <td>547</td>\n",
       "      <td>1</td>\n",
       "      <td>195.42</td>\n",
       "      <td>4</td>\n",
       "      <td>4</td>\n",
       "      <td>1</td>\n",
       "      <td>441</td>\n",
       "      <td>9</td>\n",
       "      <td>Silver</td>\n",
       "    </tr>\n",
       "    <tr>\n",
       "      <th>3</th>\n",
       "      <td>0002414f95344307404f0ace7a26f1d5</td>\n",
       "      <td>378</td>\n",
       "      <td>1</td>\n",
       "      <td>179.35</td>\n",
       "      <td>4</td>\n",
       "      <td>4</td>\n",
       "      <td>1</td>\n",
       "      <td>441</td>\n",
       "      <td>9</td>\n",
       "      <td>Silver</td>\n",
       "    </tr>\n",
       "    <tr>\n",
       "      <th>4</th>\n",
       "      <td>000379cdec625522490c315e70c7a9fb</td>\n",
       "      <td>149</td>\n",
       "      <td>1</td>\n",
       "      <td>107.01</td>\n",
       "      <td>2</td>\n",
       "      <td>4</td>\n",
       "      <td>2</td>\n",
       "      <td>242</td>\n",
       "      <td>8</td>\n",
       "      <td>Silver</td>\n",
       "    </tr>\n",
       "  </tbody>\n",
       "</table>\n",
       "</div>"
      ],
      "text/plain": [
       "                        customer_id  Recency  Frequency  Monetary  R  F  M  \\\n",
       "0  00012a2ce6f8dcda20d059ce98491703      288          1    114.74  3  4  2   \n",
       "1  000161a058600d5901f007fab4c27140      409          1     67.41  4  4  3   \n",
       "2  0001fd6190edaaf884bcaf3d49edf079      547          1    195.42  4  4  1   \n",
       "3  0002414f95344307404f0ace7a26f1d5      378          1    179.35  4  4  1   \n",
       "4  000379cdec625522490c315e70c7a9fb      149          1    107.01  2  4  2   \n",
       "\n",
       "  RFMScore  Score CustomerLevel  \n",
       "0      342      9        Silver  \n",
       "1      443     11        Bronze  \n",
       "2      441      9        Silver  \n",
       "3      441      9        Silver  \n",
       "4      242      8        Silver  "
      ]
     },
     "execution_count": 25,
     "metadata": {},
     "output_type": "execute_result"
    }
   ],
   "source": [
    "def level_customer(rfm_segment):\n",
    "   if (rfm_segment['Score'] <=12) and (rfm_segment['Score'] > 9):\n",
    "      return 'Bronze'\n",
    "   elif (rfm_segment['Score'] <=9) and (rfm_segment['Score'] > 6):\n",
    "      return 'Silver'\n",
    "   elif (rfm_segment['Score'] <=6) and (rfm_segment['Score'] > 3):\n",
    "      return 'Gold'\n",
    "   elif rfm_segment['Score'] <= 3:\n",
    "      return 'Platinum'\n",
    "rfm_segment['CustomerLevel']=rfm_segment.apply(level_customer,axis=1)\n",
    "rfm = pd.DataFrame(rfm_segment.reset_index())\n",
    "rfm.head()"
   ]
  },
  {
   "cell_type": "markdown",
   "id": "e417bf3f",
   "metadata": {
    "papermill": {
     "duration": 0.015784,
     "end_time": "2022-10-18T13:33:23.616390",
     "exception": false,
     "start_time": "2022-10-18T13:33:23.600606",
     "status": "completed"
    },
    "tags": []
   },
   "source": [
    "**====Recreate Several Exist Column For Further Customer 360 Analysis====**"
   ]
  },
  {
   "cell_type": "code",
   "execution_count": 26,
   "id": "4dcc7f58",
   "metadata": {
    "execution": {
     "iopub.execute_input": "2022-10-18T13:33:23.650548Z",
     "iopub.status.busy": "2022-10-18T13:33:23.650143Z",
     "iopub.status.idle": "2022-10-18T13:33:24.108844Z",
     "shell.execute_reply": "2022-10-18T13:33:24.107386Z"
    },
    "papermill": {
     "duration": 0.478714,
     "end_time": "2022-10-18T13:33:24.111477",
     "exception": false,
     "start_time": "2022-10-18T13:33:23.632763",
     "status": "completed"
    },
    "tags": []
   },
   "outputs": [
    {
     "data": {
      "text/html": [
       "<div>\n",
       "<style scoped>\n",
       "    .dataframe tbody tr th:only-of-type {\n",
       "        vertical-align: middle;\n",
       "    }\n",
       "\n",
       "    .dataframe tbody tr th {\n",
       "        vertical-align: top;\n",
       "    }\n",
       "\n",
       "    .dataframe thead th {\n",
       "        text-align: right;\n",
       "    }\n",
       "</style>\n",
       "<table border=\"1\" class=\"dataframe\">\n",
       "  <thead>\n",
       "    <tr style=\"text-align: right;\">\n",
       "      <th></th>\n",
       "      <th>customer_id</th>\n",
       "      <th>customer_city</th>\n",
       "      <th>review_score</th>\n",
       "      <th>payment_type</th>\n",
       "    </tr>\n",
       "  </thead>\n",
       "  <tbody>\n",
       "    <tr>\n",
       "      <th>0</th>\n",
       "      <td>06b8999e2fba1a1fbc88172c00ba8bc7</td>\n",
       "      <td>franca</td>\n",
       "      <td>4</td>\n",
       "      <td>credit_card</td>\n",
       "    </tr>\n",
       "    <tr>\n",
       "      <th>1</th>\n",
       "      <td>18955e83d337fd6b2def6b18a428ac77</td>\n",
       "      <td>sao bernardo do campo</td>\n",
       "      <td>5</td>\n",
       "      <td>credit_card</td>\n",
       "    </tr>\n",
       "    <tr>\n",
       "      <th>2</th>\n",
       "      <td>4e7b3e00288586ebd08712fdd0374a03</td>\n",
       "      <td>sao paulo</td>\n",
       "      <td>5</td>\n",
       "      <td>credit_card</td>\n",
       "    </tr>\n",
       "    <tr>\n",
       "      <th>3</th>\n",
       "      <td>b2b6027bc5c5109e529d4dc6358b12c3</td>\n",
       "      <td>mogi das cruzes</td>\n",
       "      <td>5</td>\n",
       "      <td>credit_card</td>\n",
       "    </tr>\n",
       "    <tr>\n",
       "      <th>4</th>\n",
       "      <td>4f2d8ab171c80ec8364f7c12e35b23ad</td>\n",
       "      <td>campinas</td>\n",
       "      <td>5</td>\n",
       "      <td>credit_card</td>\n",
       "    </tr>\n",
       "  </tbody>\n",
       "</table>\n",
       "</div>"
      ],
      "text/plain": [
       "                        customer_id          customer_city  review_score  \\\n",
       "0  06b8999e2fba1a1fbc88172c00ba8bc7                 franca             4   \n",
       "1  18955e83d337fd6b2def6b18a428ac77  sao bernardo do campo             5   \n",
       "2  4e7b3e00288586ebd08712fdd0374a03              sao paulo             5   \n",
       "3  b2b6027bc5c5109e529d4dc6358b12c3        mogi das cruzes             5   \n",
       "4  4f2d8ab171c80ec8364f7c12e35b23ad               campinas             5   \n",
       "\n",
       "  payment_type  \n",
       "0  credit_card  \n",
       "1  credit_card  \n",
       "2  credit_card  \n",
       "3  credit_card  \n",
       "4  credit_card  "
      ]
     },
     "execution_count": 26,
     "metadata": {},
     "output_type": "execute_result"
    }
   ],
   "source": [
    "#Kolom yang sudah ada pada dataset sebelumnya yang masih akan digunakan untuk dataset baru\n",
    "copo = pd.merge(cop, oreview)\n",
    "copo = copo[['customer_id', 'customer_city', 'review_score', 'payment_type']]\n",
    "copo = pd.DataFrame(copo)\n",
    "copo.head()"
   ]
  },
  {
   "cell_type": "markdown",
   "id": "7cb26d2e",
   "metadata": {
    "papermill": {
     "duration": 0.015545,
     "end_time": "2022-10-18T13:33:24.143039",
     "exception": false,
     "start_time": "2022-10-18T13:33:24.127494",
     "status": "completed"
    },
    "tags": []
   },
   "source": [
    "**====Star Point Segmentation====**"
   ]
  },
  {
   "cell_type": "code",
   "execution_count": 27,
   "id": "2a53b829",
   "metadata": {
    "execution": {
     "iopub.execute_input": "2022-10-18T13:33:24.176394Z",
     "iopub.status.busy": "2022-10-18T13:33:24.176008Z",
     "iopub.status.idle": "2022-10-18T13:33:26.668021Z",
     "shell.execute_reply": "2022-10-18T13:33:26.666742Z"
    },
    "papermill": {
     "duration": 2.511619,
     "end_time": "2022-10-18T13:33:26.670478",
     "exception": false,
     "start_time": "2022-10-18T13:33:24.158859",
     "status": "completed"
    },
    "tags": []
   },
   "outputs": [
    {
     "data": {
      "text/html": [
       "<div>\n",
       "<style scoped>\n",
       "    .dataframe tbody tr th:only-of-type {\n",
       "        vertical-align: middle;\n",
       "    }\n",
       "\n",
       "    .dataframe tbody tr th {\n",
       "        vertical-align: top;\n",
       "    }\n",
       "\n",
       "    .dataframe thead th {\n",
       "        text-align: right;\n",
       "    }\n",
       "</style>\n",
       "<table border=\"1\" class=\"dataframe\">\n",
       "  <thead>\n",
       "    <tr style=\"text-align: right;\">\n",
       "      <th></th>\n",
       "      <th>customer_id</th>\n",
       "      <th>customer_city</th>\n",
       "      <th>review_score</th>\n",
       "      <th>payment_type</th>\n",
       "      <th>Star_Rate</th>\n",
       "    </tr>\n",
       "  </thead>\n",
       "  <tbody>\n",
       "    <tr>\n",
       "      <th>0</th>\n",
       "      <td>06b8999e2fba1a1fbc88172c00ba8bc7</td>\n",
       "      <td>franca</td>\n",
       "      <td>4</td>\n",
       "      <td>credit_card</td>\n",
       "      <td>****</td>\n",
       "    </tr>\n",
       "    <tr>\n",
       "      <th>1</th>\n",
       "      <td>18955e83d337fd6b2def6b18a428ac77</td>\n",
       "      <td>sao bernardo do campo</td>\n",
       "      <td>5</td>\n",
       "      <td>credit_card</td>\n",
       "      <td>*****</td>\n",
       "    </tr>\n",
       "    <tr>\n",
       "      <th>2</th>\n",
       "      <td>4e7b3e00288586ebd08712fdd0374a03</td>\n",
       "      <td>sao paulo</td>\n",
       "      <td>5</td>\n",
       "      <td>credit_card</td>\n",
       "      <td>*****</td>\n",
       "    </tr>\n",
       "    <tr>\n",
       "      <th>3</th>\n",
       "      <td>b2b6027bc5c5109e529d4dc6358b12c3</td>\n",
       "      <td>mogi das cruzes</td>\n",
       "      <td>5</td>\n",
       "      <td>credit_card</td>\n",
       "      <td>*****</td>\n",
       "    </tr>\n",
       "    <tr>\n",
       "      <th>4</th>\n",
       "      <td>4f2d8ab171c80ec8364f7c12e35b23ad</td>\n",
       "      <td>campinas</td>\n",
       "      <td>5</td>\n",
       "      <td>credit_card</td>\n",
       "      <td>*****</td>\n",
       "    </tr>\n",
       "  </tbody>\n",
       "</table>\n",
       "</div>"
      ],
      "text/plain": [
       "                        customer_id          customer_city  review_score  \\\n",
       "0  06b8999e2fba1a1fbc88172c00ba8bc7                 franca             4   \n",
       "1  18955e83d337fd6b2def6b18a428ac77  sao bernardo do campo             5   \n",
       "2  4e7b3e00288586ebd08712fdd0374a03              sao paulo             5   \n",
       "3  b2b6027bc5c5109e529d4dc6358b12c3        mogi das cruzes             5   \n",
       "4  4f2d8ab171c80ec8364f7c12e35b23ad               campinas             5   \n",
       "\n",
       "  payment_type Star_Rate  \n",
       "0  credit_card      ****  \n",
       "1  credit_card     *****  \n",
       "2  credit_card     *****  \n",
       "3  credit_card     *****  \n",
       "4  credit_card     *****  "
      ]
     },
     "execution_count": 27,
     "metadata": {},
     "output_type": "execute_result"
    }
   ],
   "source": [
    "def star_point(copo):\n",
    "    if copo['review_score'] == 1:\n",
    "        return '*'\n",
    "    elif copo['review_score'] == 2:\n",
    "        return '**'\n",
    "    elif copo['review_score'] == 3:\n",
    "        return '***'\n",
    "    elif copo['review_score'] == 4:\n",
    "        return '****'\n",
    "    elif copo['review_score'] == 5:\n",
    "        return '*****'\n",
    "copo['Star_Rate'] = copo.apply(star_point, axis=1)\n",
    "copo = pd.DataFrame(copo)\n",
    "copo.head()"
   ]
  },
  {
   "cell_type": "markdown",
   "id": "e1ae5c37",
   "metadata": {
    "papermill": {
     "duration": 0.016422,
     "end_time": "2022-10-18T13:33:26.703877",
     "exception": false,
     "start_time": "2022-10-18T13:33:26.687455",
     "status": "completed"
    },
    "tags": []
   },
   "source": [
    "**====CUSTOMER COHORT SEGEMENTATION====**"
   ]
  },
  {
   "cell_type": "code",
   "execution_count": 28,
   "id": "42c81563",
   "metadata": {
    "execution": {
     "iopub.execute_input": "2022-10-18T13:33:26.739668Z",
     "iopub.status.busy": "2022-10-18T13:33:26.739228Z",
     "iopub.status.idle": "2022-10-18T13:33:27.003168Z",
     "shell.execute_reply": "2022-10-18T13:33:27.001592Z"
    },
    "papermill": {
     "duration": 0.285021,
     "end_time": "2022-10-18T13:33:27.005715",
     "exception": false,
     "start_time": "2022-10-18T13:33:26.720694",
     "status": "completed"
    },
    "tags": []
   },
   "outputs": [
    {
     "data": {
      "text/html": [
       "<div>\n",
       "<style scoped>\n",
       "    .dataframe tbody tr th:only-of-type {\n",
       "        vertical-align: middle;\n",
       "    }\n",
       "\n",
       "    .dataframe tbody tr th {\n",
       "        vertical-align: top;\n",
       "    }\n",
       "\n",
       "    .dataframe thead th {\n",
       "        text-align: right;\n",
       "    }\n",
       "</style>\n",
       "<table border=\"1\" class=\"dataframe\">\n",
       "  <thead>\n",
       "    <tr style=\"text-align: right;\">\n",
       "      <th></th>\n",
       "      <th>customer_id</th>\n",
       "      <th>acquisition_cohort</th>\n",
       "      <th>order_cohort</th>\n",
       "    </tr>\n",
       "  </thead>\n",
       "  <tbody>\n",
       "    <tr>\n",
       "      <th>0</th>\n",
       "      <td>06b8999e2fba1a1fbc88172c00ba8bc7</td>\n",
       "      <td>2017Q2</td>\n",
       "      <td>2017Q2</td>\n",
       "    </tr>\n",
       "    <tr>\n",
       "      <th>1</th>\n",
       "      <td>18955e83d337fd6b2def6b18a428ac77</td>\n",
       "      <td>2018Q1</td>\n",
       "      <td>2018Q1</td>\n",
       "    </tr>\n",
       "    <tr>\n",
       "      <th>2</th>\n",
       "      <td>4e7b3e00288586ebd08712fdd0374a03</td>\n",
       "      <td>2018Q2</td>\n",
       "      <td>2018Q2</td>\n",
       "    </tr>\n",
       "    <tr>\n",
       "      <th>3</th>\n",
       "      <td>b2b6027bc5c5109e529d4dc6358b12c3</td>\n",
       "      <td>2018Q1</td>\n",
       "      <td>2018Q1</td>\n",
       "    </tr>\n",
       "    <tr>\n",
       "      <th>4</th>\n",
       "      <td>4f2d8ab171c80ec8364f7c12e35b23ad</td>\n",
       "      <td>2018Q3</td>\n",
       "      <td>2018Q3</td>\n",
       "    </tr>\n",
       "  </tbody>\n",
       "</table>\n",
       "</div>"
      ],
      "text/plain": [
       "                        customer_id acquisition_cohort order_cohort\n",
       "0  06b8999e2fba1a1fbc88172c00ba8bc7             2017Q2       2017Q2\n",
       "1  18955e83d337fd6b2def6b18a428ac77             2018Q1       2018Q1\n",
       "2  4e7b3e00288586ebd08712fdd0374a03             2018Q2       2018Q2\n",
       "3  b2b6027bc5c5109e529d4dc6358b12c3             2018Q1       2018Q1\n",
       "4  4f2d8ab171c80ec8364f7c12e35b23ad             2018Q3       2018Q3"
      ]
     },
     "execution_count": 28,
     "metadata": {},
     "output_type": "execute_result"
    }
   ],
   "source": [
    "import datetime as dt\n",
    "cop['order_purchase_timestamp'] = pd.to_datetime(cop['order_purchase_timestamp'])\n",
    "def get_cohort(cop, period='M'):\n",
    "    cop = cop[['customer_id', 'order_purchase_timestamp']].drop_duplicates()\n",
    "    cop = cop.assign(acquisition_cohort = cop.groupby('customer_id')['order_purchase_timestamp'].transform('min').dt.to_period(period))\n",
    "    cop = cop.assign(order_cohort = cop['order_purchase_timestamp'].dt.to_period(period))\n",
    "    return cop\n",
    "cop_df = get_cohort(cop, period='Q')\n",
    "cop_df1 = cop_df[['customer_id', 'acquisition_cohort', 'order_cohort']]\n",
    "cohort = pd.DataFrame(cop_df1)\n",
    "cohort.head()"
   ]
  },
  {
   "cell_type": "markdown",
   "id": "33dcd9b0",
   "metadata": {
    "papermill": {
     "duration": 0.017277,
     "end_time": "2022-10-18T13:33:27.039465",
     "exception": false,
     "start_time": "2022-10-18T13:33:27.022188",
     "status": "completed"
    },
    "tags": []
   },
   "source": [
    "**====REASSEMBLE ALL SEGMENTATION INTO NEW DATASET====**"
   ]
  },
  {
   "cell_type": "code",
   "execution_count": 29,
   "id": "58f40444",
   "metadata": {
    "execution": {
     "iopub.execute_input": "2022-10-18T13:33:27.074576Z",
     "iopub.status.busy": "2022-10-18T13:33:27.074158Z",
     "iopub.status.idle": "2022-10-18T13:33:28.675240Z",
     "shell.execute_reply": "2022-10-18T13:33:28.674089Z"
    },
    "papermill": {
     "duration": 1.621264,
     "end_time": "2022-10-18T13:33:28.677837",
     "exception": false,
     "start_time": "2022-10-18T13:33:27.056573",
     "status": "completed"
    },
    "tags": []
   },
   "outputs": [
    {
     "data": {
      "text/plain": [
       "customer_id                0\n",
       "product_dimension          0\n",
       "product_size               0\n",
       "product_weight_segment    46\n",
       "price_class                0\n",
       "acquisition_cohort         0\n",
       "order_cohort               0\n",
       "customer_city              0\n",
       "review_score               0\n",
       "payment_type               0\n",
       "Star_Rate                  0\n",
       "Recency                    0\n",
       "Frequency                  0\n",
       "Monetary                   0\n",
       "R                          0\n",
       "F                          0\n",
       "M                          0\n",
       "RFMScore                   0\n",
       "Score                      0\n",
       "CustomerLevel              0\n",
       "dtype: int64"
      ]
     },
     "execution_count": 29,
     "metadata": {},
     "output_type": "execute_result"
    }
   ],
   "source": [
    "sc = pd.merge(size, cohort)\n",
    "sr = pd.merge(sc, copo)\n",
    "scr = pd.merge(sr, rfm).drop_duplicates()\n",
    "scr.isnull().sum(axis=0)"
   ]
  },
  {
   "cell_type": "code",
   "execution_count": 30,
   "id": "165819e0",
   "metadata": {
    "execution": {
     "iopub.execute_input": "2022-10-18T13:33:28.713170Z",
     "iopub.status.busy": "2022-10-18T13:33:28.712777Z",
     "iopub.status.idle": "2022-10-18T13:33:28.766045Z",
     "shell.execute_reply": "2022-10-18T13:33:28.764802Z"
    },
    "papermill": {
     "duration": 0.073579,
     "end_time": "2022-10-18T13:33:28.768589",
     "exception": false,
     "start_time": "2022-10-18T13:33:28.695010",
     "status": "completed"
    },
    "tags": []
   },
   "outputs": [
    {
     "data": {
      "text/html": [
       "<div>\n",
       "<style scoped>\n",
       "    .dataframe tbody tr th:only-of-type {\n",
       "        vertical-align: middle;\n",
       "    }\n",
       "\n",
       "    .dataframe tbody tr th {\n",
       "        vertical-align: top;\n",
       "    }\n",
       "\n",
       "    .dataframe thead th {\n",
       "        text-align: right;\n",
       "    }\n",
       "</style>\n",
       "<table border=\"1\" class=\"dataframe\">\n",
       "  <thead>\n",
       "    <tr style=\"text-align: right;\">\n",
       "      <th></th>\n",
       "      <th>customer_id</th>\n",
       "      <th>product_dimension</th>\n",
       "      <th>product_size</th>\n",
       "      <th>product_weight_segment</th>\n",
       "      <th>price_class</th>\n",
       "      <th>acquisition_cohort</th>\n",
       "      <th>order_cohort</th>\n",
       "      <th>customer_city</th>\n",
       "      <th>review_score</th>\n",
       "      <th>payment_type</th>\n",
       "      <th>Star_Rate</th>\n",
       "      <th>Recency</th>\n",
       "      <th>Frequency</th>\n",
       "      <th>Monetary</th>\n",
       "      <th>R</th>\n",
       "      <th>F</th>\n",
       "      <th>M</th>\n",
       "      <th>RFMScore</th>\n",
       "      <th>Score</th>\n",
       "      <th>CustomerLevel</th>\n",
       "    </tr>\n",
       "  </thead>\n",
       "  <tbody>\n",
       "    <tr>\n",
       "      <th>0</th>\n",
       "      <td>3ce436f183e68e07877b285a838db11a</td>\n",
       "      <td>3528.0</td>\n",
       "      <td>Small</td>\n",
       "      <td>Light</td>\n",
       "      <td>Cheap</td>\n",
       "      <td>2017Q3</td>\n",
       "      <td>2017Q3</td>\n",
       "      <td>campos dos goytacazes</td>\n",
       "      <td>5</td>\n",
       "      <td>credit_card</td>\n",
       "      <td>*****</td>\n",
       "      <td>350</td>\n",
       "      <td>1</td>\n",
       "      <td>72.19</td>\n",
       "      <td>4</td>\n",
       "      <td>4</td>\n",
       "      <td>3</td>\n",
       "      <td>443</td>\n",
       "      <td>11</td>\n",
       "      <td>Bronze</td>\n",
       "    </tr>\n",
       "    <tr>\n",
       "      <th>1</th>\n",
       "      <td>e6eecc5a77de221464d1c4eaff0a9b64</td>\n",
       "      <td>3528.0</td>\n",
       "      <td>Small</td>\n",
       "      <td>Light</td>\n",
       "      <td>Cheap</td>\n",
       "      <td>2017Q2</td>\n",
       "      <td>2017Q2</td>\n",
       "      <td>jatai</td>\n",
       "      <td>5</td>\n",
       "      <td>boleto</td>\n",
       "      <td>*****</td>\n",
       "      <td>427</td>\n",
       "      <td>1</td>\n",
       "      <td>73.86</td>\n",
       "      <td>4</td>\n",
       "      <td>4</td>\n",
       "      <td>3</td>\n",
       "      <td>443</td>\n",
       "      <td>11</td>\n",
       "      <td>Bronze</td>\n",
       "    </tr>\n",
       "    <tr>\n",
       "      <th>2</th>\n",
       "      <td>4ef55bf80f711b372afebcb7c715344a</td>\n",
       "      <td>3528.0</td>\n",
       "      <td>Small</td>\n",
       "      <td>Light</td>\n",
       "      <td>Cheap</td>\n",
       "      <td>2018Q2</td>\n",
       "      <td>2018Q2</td>\n",
       "      <td>belo horizonte</td>\n",
       "      <td>4</td>\n",
       "      <td>credit_card</td>\n",
       "      <td>****</td>\n",
       "      <td>103</td>\n",
       "      <td>1</td>\n",
       "      <td>83.23</td>\n",
       "      <td>1</td>\n",
       "      <td>4</td>\n",
       "      <td>3</td>\n",
       "      <td>143</td>\n",
       "      <td>8</td>\n",
       "      <td>Silver</td>\n",
       "    </tr>\n",
       "    <tr>\n",
       "      <th>3</th>\n",
       "      <td>30407a72ad8b3f4df4d15369126b20c9</td>\n",
       "      <td>3528.0</td>\n",
       "      <td>Small</td>\n",
       "      <td>Light</td>\n",
       "      <td>Cheap</td>\n",
       "      <td>2017Q3</td>\n",
       "      <td>2017Q3</td>\n",
       "      <td>sao jose dos pinhais</td>\n",
       "      <td>5</td>\n",
       "      <td>credit_card</td>\n",
       "      <td>*****</td>\n",
       "      <td>393</td>\n",
       "      <td>1</td>\n",
       "      <td>75.07</td>\n",
       "      <td>4</td>\n",
       "      <td>4</td>\n",
       "      <td>3</td>\n",
       "      <td>443</td>\n",
       "      <td>11</td>\n",
       "      <td>Bronze</td>\n",
       "    </tr>\n",
       "    <tr>\n",
       "      <th>4</th>\n",
       "      <td>91a792fef70ecd8cc69d3c7feb3d12da</td>\n",
       "      <td>3528.0</td>\n",
       "      <td>Small</td>\n",
       "      <td>Light</td>\n",
       "      <td>Cheap</td>\n",
       "      <td>2017Q3</td>\n",
       "      <td>2017Q3</td>\n",
       "      <td>conselheiro lafaiete</td>\n",
       "      <td>5</td>\n",
       "      <td>credit_card</td>\n",
       "      <td>*****</td>\n",
       "      <td>384</td>\n",
       "      <td>1</td>\n",
       "      <td>72.19</td>\n",
       "      <td>4</td>\n",
       "      <td>4</td>\n",
       "      <td>3</td>\n",
       "      <td>443</td>\n",
       "      <td>11</td>\n",
       "      <td>Bronze</td>\n",
       "    </tr>\n",
       "  </tbody>\n",
       "</table>\n",
       "</div>"
      ],
      "text/plain": [
       "                        customer_id  product_dimension product_size  \\\n",
       "0  3ce436f183e68e07877b285a838db11a             3528.0        Small   \n",
       "1  e6eecc5a77de221464d1c4eaff0a9b64             3528.0        Small   \n",
       "2  4ef55bf80f711b372afebcb7c715344a             3528.0        Small   \n",
       "3  30407a72ad8b3f4df4d15369126b20c9             3528.0        Small   \n",
       "4  91a792fef70ecd8cc69d3c7feb3d12da             3528.0        Small   \n",
       "\n",
       "  product_weight_segment price_class acquisition_cohort order_cohort  \\\n",
       "0                  Light       Cheap             2017Q3       2017Q3   \n",
       "1                  Light       Cheap             2017Q2       2017Q2   \n",
       "2                  Light       Cheap             2018Q2       2018Q2   \n",
       "3                  Light       Cheap             2017Q3       2017Q3   \n",
       "4                  Light       Cheap             2017Q3       2017Q3   \n",
       "\n",
       "           customer_city  review_score payment_type Star_Rate  Recency  \\\n",
       "0  campos dos goytacazes             5  credit_card     *****      350   \n",
       "1                  jatai             5       boleto     *****      427   \n",
       "2         belo horizonte             4  credit_card      ****      103   \n",
       "3   sao jose dos pinhais             5  credit_card     *****      393   \n",
       "4   conselheiro lafaiete             5  credit_card     *****      384   \n",
       "\n",
       "   Frequency  Monetary  R  F  M RFMScore  Score CustomerLevel  \n",
       "0          1     72.19  4  4  3      443     11        Bronze  \n",
       "1          1     73.86  4  4  3      443     11        Bronze  \n",
       "2          1     83.23  1  4  3      143      8        Silver  \n",
       "3          1     75.07  4  4  3      443     11        Bronze  \n",
       "4          1     72.19  4  4  3      443     11        Bronze  "
      ]
     },
     "execution_count": 30,
     "metadata": {},
     "output_type": "execute_result"
    }
   ],
   "source": [
    "scr = scr[pd.notnull(scr['product_weight_segment'])]\n",
    "scr.head()"
   ]
  },
  {
   "cell_type": "code",
   "execution_count": 31,
   "id": "20d3fbb1",
   "metadata": {
    "execution": {
     "iopub.execute_input": "2022-10-18T13:33:28.805112Z",
     "iopub.status.busy": "2022-10-18T13:33:28.804680Z",
     "iopub.status.idle": "2022-10-18T13:33:28.883467Z",
     "shell.execute_reply": "2022-10-18T13:33:28.882072Z"
    },
    "papermill": {
     "duration": 0.100189,
     "end_time": "2022-10-18T13:33:28.886133",
     "exception": false,
     "start_time": "2022-10-18T13:33:28.785944",
     "status": "completed"
    },
    "tags": []
   },
   "outputs": [
    {
     "name": "stdout",
     "output_type": "stream",
     "text": [
      "<class 'pandas.core.frame.DataFrame'>\n",
      "Int64Index: 100690 entries, 0 to 114821\n",
      "Data columns (total 20 columns):\n",
      " #   Column                  Non-Null Count   Dtype        \n",
      "---  ------                  --------------   -----        \n",
      " 0   customer_id             100690 non-null  object       \n",
      " 1   product_dimension       100690 non-null  float64      \n",
      " 2   product_size            100690 non-null  object       \n",
      " 3   product_weight_segment  100690 non-null  object       \n",
      " 4   price_class             100690 non-null  object       \n",
      " 5   acquisition_cohort      100690 non-null  period[Q-DEC]\n",
      " 6   order_cohort            100690 non-null  period[Q-DEC]\n",
      " 7   customer_city           100690 non-null  object       \n",
      " 8   review_score            100690 non-null  int64        \n",
      " 9   payment_type            100690 non-null  object       \n",
      " 10  Star_Rate               100690 non-null  object       \n",
      " 11  Recency                 100690 non-null  int64        \n",
      " 12  Frequency               100690 non-null  int64        \n",
      " 13  Monetary                100690 non-null  float64      \n",
      " 14  R                       100690 non-null  int64        \n",
      " 15  F                       100690 non-null  int64        \n",
      " 16  M                       100690 non-null  int64        \n",
      " 17  RFMScore                100690 non-null  object       \n",
      " 18  Score                   100690 non-null  int64        \n",
      " 19  CustomerLevel           100690 non-null  object       \n",
      "dtypes: float64(2), int64(7), object(9), period[Q-DEC](2)\n",
      "memory usage: 16.1+ MB\n"
     ]
    }
   ],
   "source": [
    "scr.info()"
   ]
  },
  {
   "cell_type": "markdown",
   "id": "57f64209",
   "metadata": {
    "papermill": {
     "duration": 0.01697,
     "end_time": "2022-10-18T13:33:28.919981",
     "exception": false,
     "start_time": "2022-10-18T13:33:28.903011",
     "status": "completed"
    },
    "tags": []
   },
   "source": [
    "**4. CUSTOMER 360 VIEW ANALYSIS AND VISUALIZATION**"
   ]
  },
  {
   "cell_type": "markdown",
   "id": "4ed930dc",
   "metadata": {
    "papermill": {
     "duration": 0.01671,
     "end_time": "2022-10-18T13:33:28.954149",
     "exception": false,
     "start_time": "2022-10-18T13:33:28.937439",
     "status": "completed"
    },
    "tags": []
   },
   "source": [
    "**====Score Clustering====**"
   ]
  },
  {
   "cell_type": "code",
   "execution_count": 32,
   "id": "c3e740ab",
   "metadata": {
    "execution": {
     "iopub.execute_input": "2022-10-18T13:33:28.990121Z",
     "iopub.status.busy": "2022-10-18T13:33:28.989658Z",
     "iopub.status.idle": "2022-10-18T13:33:29.599535Z",
     "shell.execute_reply": "2022-10-18T13:33:29.598352Z"
    },
    "papermill": {
     "duration": 0.631252,
     "end_time": "2022-10-18T13:33:29.602218",
     "exception": false,
     "start_time": "2022-10-18T13:33:28.970966",
     "status": "completed"
    },
    "tags": []
   },
   "outputs": [
    {
     "data": {
      "text/plain": [
       "<seaborn.axisgrid.FacetGrid at 0x7feda0454e50>"
      ]
     },
     "execution_count": 32,
     "metadata": {},
     "output_type": "execute_result"
    },
    {
     "data": {
      "image/png": "[encoded data removed]",
      "text/plain": [
       "<Figure size 360x360 with 1 Axes>"
      ]
     },
     "metadata": {
      "needs_background": "light"
     },
     "output_type": "display_data"
    }
   ],
   "source": [
    "sns.displot(oreview['review_score'])"
   ]
  },
  {
   "cell_type": "markdown",
   "id": "8751f176",
   "metadata": {
    "papermill": {
     "duration": 0.018164,
     "end_time": "2022-10-18T13:33:29.639408",
     "exception": false,
     "start_time": "2022-10-18T13:33:29.621244",
     "status": "completed"
    },
    "tags": []
   },
   "source": [
    "**====Most Favorable Payment Type====**"
   ]
  },
  {
   "cell_type": "code",
   "execution_count": 33,
   "id": "f73a0d68",
   "metadata": {
    "execution": {
     "iopub.execute_input": "2022-10-18T13:33:29.677655Z",
     "iopub.status.busy": "2022-10-18T13:33:29.677244Z",
     "iopub.status.idle": "2022-10-18T13:33:29.755271Z",
     "shell.execute_reply": "2022-10-18T13:33:29.754072Z"
    },
    "papermill": {
     "duration": 0.099603,
     "end_time": "2022-10-18T13:33:29.757925",
     "exception": false,
     "start_time": "2022-10-18T13:33:29.658322",
     "status": "completed"
    },
    "tags": []
   },
   "outputs": [
    {
     "data": {
      "text/html": [
       "<div>\n",
       "<style scoped>\n",
       "    .dataframe tbody tr th:only-of-type {\n",
       "        vertical-align: middle;\n",
       "    }\n",
       "\n",
       "    .dataframe tbody tr th {\n",
       "        vertical-align: top;\n",
       "    }\n",
       "\n",
       "    .dataframe thead th {\n",
       "        text-align: right;\n",
       "    }\n",
       "</style>\n",
       "<table border=\"1\" class=\"dataframe\">\n",
       "  <thead>\n",
       "    <tr style=\"text-align: right;\">\n",
       "      <th></th>\n",
       "      <th>payment_type</th>\n",
       "      <th>customer_id</th>\n",
       "    </tr>\n",
       "  </thead>\n",
       "  <tbody>\n",
       "    <tr>\n",
       "      <th>1</th>\n",
       "      <td>credit_card</td>\n",
       "      <td>74302</td>\n",
       "    </tr>\n",
       "    <tr>\n",
       "      <th>0</th>\n",
       "      <td>boleto</td>\n",
       "      <td>19177</td>\n",
       "    </tr>\n",
       "    <tr>\n",
       "      <th>3</th>\n",
       "      <td>voucher</td>\n",
       "      <td>3679</td>\n",
       "    </tr>\n",
       "    <tr>\n",
       "      <th>2</th>\n",
       "      <td>debit_card</td>\n",
       "      <td>1484</td>\n",
       "    </tr>\n",
       "  </tbody>\n",
       "</table>\n",
       "</div>"
      ],
      "text/plain": [
       "  payment_type  customer_id\n",
       "1  credit_card        74302\n",
       "0       boleto        19177\n",
       "3      voucher         3679\n",
       "2   debit_card         1484"
      ]
     },
     "execution_count": 33,
     "metadata": {},
     "output_type": "execute_result"
    }
   ],
   "source": [
    "customerpay = cop[['customer_id','payment_type']].drop_duplicates()\n",
    "customerpay.groupby(['payment_type']).agg('count').reset_index().sort_values('customer_id', ascending=False)"
   ]
  },
  {
   "cell_type": "markdown",
   "id": "5e76e6e0",
   "metadata": {
    "papermill": {
     "duration": 0.018616,
     "end_time": "2022-10-18T13:33:29.793989",
     "exception": false,
     "start_time": "2022-10-18T13:33:29.775373",
     "status": "completed"
    },
    "tags": []
   },
   "source": [
    "**====City With The Most Customers====**"
   ]
  },
  {
   "cell_type": "code",
   "execution_count": 34,
   "id": "4f9d1fc4",
   "metadata": {
    "execution": {
     "iopub.execute_input": "2022-10-18T13:33:29.832343Z",
     "iopub.status.busy": "2022-10-18T13:33:29.831596Z",
     "iopub.status.idle": "2022-10-18T13:33:29.915809Z",
     "shell.execute_reply": "2022-10-18T13:33:29.914542Z"
    },
    "papermill": {
     "duration": 0.107034,
     "end_time": "2022-10-18T13:33:29.918436",
     "exception": false,
     "start_time": "2022-10-18T13:33:29.811402",
     "status": "completed"
    },
    "tags": []
   },
   "outputs": [
    {
     "data": {
      "text/html": [
       "<div>\n",
       "<style scoped>\n",
       "    .dataframe tbody tr th:only-of-type {\n",
       "        vertical-align: middle;\n",
       "    }\n",
       "\n",
       "    .dataframe tbody tr th {\n",
       "        vertical-align: top;\n",
       "    }\n",
       "\n",
       "    .dataframe thead th {\n",
       "        text-align: right;\n",
       "    }\n",
       "</style>\n",
       "<table border=\"1\" class=\"dataframe\">\n",
       "  <thead>\n",
       "    <tr style=\"text-align: right;\">\n",
       "      <th></th>\n",
       "      <th>customer_city</th>\n",
       "      <th>customer_id</th>\n",
       "    </tr>\n",
       "  </thead>\n",
       "  <tbody>\n",
       "    <tr>\n",
       "      <th>3563</th>\n",
       "      <td>sao paulo</td>\n",
       "      <td>15044</td>\n",
       "    </tr>\n",
       "    <tr>\n",
       "      <th>3126</th>\n",
       "      <td>rio de janeiro</td>\n",
       "      <td>6603</td>\n",
       "    </tr>\n",
       "    <tr>\n",
       "      <th>449</th>\n",
       "      <td>belo horizonte</td>\n",
       "      <td>2697</td>\n",
       "    </tr>\n",
       "    <tr>\n",
       "      <th>553</th>\n",
       "      <td>brasilia</td>\n",
       "      <td>2071</td>\n",
       "    </tr>\n",
       "    <tr>\n",
       "      <th>1135</th>\n",
       "      <td>curitiba</td>\n",
       "      <td>1489</td>\n",
       "    </tr>\n",
       "  </tbody>\n",
       "</table>\n",
       "</div>"
      ],
      "text/plain": [
       "       customer_city  customer_id\n",
       "3563       sao paulo        15044\n",
       "3126  rio de janeiro         6603\n",
       "449   belo horizonte         2697\n",
       "553         brasilia         2071\n",
       "1135        curitiba         1489"
      ]
     },
     "execution_count": 34,
     "metadata": {},
     "output_type": "execute_result"
    }
   ],
   "source": [
    "customercity = cop[['customer_id','customer_city']].drop_duplicates()\n",
    "customercity = customercity.groupby(['customer_city']).agg('count').reset_index().sort_values('customer_id', ascending=False)\n",
    "customercity.head()"
   ]
  },
  {
   "cell_type": "markdown",
   "id": "b25888eb",
   "metadata": {
    "papermill": {
     "duration": 0.017169,
     "end_time": "2022-10-18T13:33:29.953621",
     "exception": false,
     "start_time": "2022-10-18T13:33:29.936452",
     "status": "completed"
    },
    "tags": []
   },
   "source": [
    "**====Product Size Segmentation====**"
   ]
  },
  {
   "cell_type": "code",
   "execution_count": 35,
   "id": "d4d2c42a",
   "metadata": {
    "execution": {
     "iopub.execute_input": "2022-10-18T13:33:29.990329Z",
     "iopub.status.busy": "2022-10-18T13:33:29.989927Z",
     "iopub.status.idle": "2022-10-18T13:33:30.102617Z",
     "shell.execute_reply": "2022-10-18T13:33:30.101512Z"
    },
    "papermill": {
     "duration": 0.133964,
     "end_time": "2022-10-18T13:33:30.105144",
     "exception": false,
     "start_time": "2022-10-18T13:33:29.971180",
     "status": "completed"
    },
    "tags": []
   },
   "outputs": [
    {
     "data": {
      "text/html": [
       "<div>\n",
       "<style scoped>\n",
       "    .dataframe tbody tr th:only-of-type {\n",
       "        vertical-align: middle;\n",
       "    }\n",
       "\n",
       "    .dataframe tbody tr th {\n",
       "        vertical-align: top;\n",
       "    }\n",
       "\n",
       "    .dataframe thead th {\n",
       "        text-align: right;\n",
       "    }\n",
       "</style>\n",
       "<table border=\"1\" class=\"dataframe\">\n",
       "  <thead>\n",
       "    <tr style=\"text-align: right;\">\n",
       "      <th></th>\n",
       "      <th>product_size</th>\n",
       "      <th>customer_id</th>\n",
       "    </tr>\n",
       "  </thead>\n",
       "  <tbody>\n",
       "    <tr>\n",
       "      <th>2</th>\n",
       "      <td>Small</td>\n",
       "      <td>88469</td>\n",
       "    </tr>\n",
       "    <tr>\n",
       "      <th>1</th>\n",
       "      <td>Medium</td>\n",
       "      <td>10041</td>\n",
       "    </tr>\n",
       "    <tr>\n",
       "      <th>0</th>\n",
       "      <td>Large</td>\n",
       "      <td>417</td>\n",
       "    </tr>\n",
       "  </tbody>\n",
       "</table>\n",
       "</div>"
      ],
      "text/plain": [
       "  product_size  customer_id\n",
       "2        Small        88469\n",
       "1       Medium        10041\n",
       "0        Large          417"
      ]
     },
     "execution_count": 35,
     "metadata": {},
     "output_type": "execute_result"
    }
   ],
   "source": [
    "productsize = dp[['customer_id','product_size']].drop_duplicates()\n",
    "productsize.groupby(['product_size']).agg('count').reset_index().sort_values('customer_id', ascending=False)"
   ]
  },
  {
   "cell_type": "markdown",
   "id": "31140ef5",
   "metadata": {
    "papermill": {
     "duration": 0.017675,
     "end_time": "2022-10-18T13:33:30.141204",
     "exception": false,
     "start_time": "2022-10-18T13:33:30.123529",
     "status": "completed"
    },
    "tags": []
   },
   "source": [
    "**====Top 5 Best Customer Based On RFM Score====**"
   ]
  },
  {
   "cell_type": "code",
   "execution_count": 36,
   "id": "c55a7af6",
   "metadata": {
    "execution": {
     "iopub.execute_input": "2022-10-18T13:33:30.181625Z",
     "iopub.status.busy": "2022-10-18T13:33:30.181225Z",
     "iopub.status.idle": "2022-10-18T13:33:30.223107Z",
     "shell.execute_reply": "2022-10-18T13:33:30.221794Z"
    },
    "papermill": {
     "duration": 0.065326,
     "end_time": "2022-10-18T13:33:30.225666",
     "exception": false,
     "start_time": "2022-10-18T13:33:30.160340",
     "status": "completed"
    },
    "tags": []
   },
   "outputs": [
    {
     "data": {
      "text/html": [
       "<div>\n",
       "<style scoped>\n",
       "    .dataframe tbody tr th:only-of-type {\n",
       "        vertical-align: middle;\n",
       "    }\n",
       "\n",
       "    .dataframe tbody tr th {\n",
       "        vertical-align: top;\n",
       "    }\n",
       "\n",
       "    .dataframe thead th {\n",
       "        text-align: right;\n",
       "    }\n",
       "</style>\n",
       "<table border=\"1\" class=\"dataframe\">\n",
       "  <thead>\n",
       "    <tr style=\"text-align: right;\">\n",
       "      <th></th>\n",
       "      <th>customer_id</th>\n",
       "      <th>product_dimension</th>\n",
       "      <th>product_size</th>\n",
       "      <th>product_weight_segment</th>\n",
       "      <th>price_class</th>\n",
       "      <th>acquisition_cohort</th>\n",
       "      <th>order_cohort</th>\n",
       "      <th>customer_city</th>\n",
       "      <th>review_score</th>\n",
       "      <th>payment_type</th>\n",
       "      <th>Star_Rate</th>\n",
       "      <th>Recency</th>\n",
       "      <th>Frequency</th>\n",
       "      <th>Monetary</th>\n",
       "      <th>R</th>\n",
       "      <th>F</th>\n",
       "      <th>M</th>\n",
       "      <th>RFMScore</th>\n",
       "      <th>Score</th>\n",
       "      <th>CustomerLevel</th>\n",
       "    </tr>\n",
       "  </thead>\n",
       "  <tbody>\n",
       "    <tr>\n",
       "      <th>104230</th>\n",
       "      <td>eb7a157e8da9c488cd4ddc48711f1097</td>\n",
       "      <td>220932.0</td>\n",
       "      <td>Large</td>\n",
       "      <td>Heavy</td>\n",
       "      <td>Intermediete</td>\n",
       "      <td>2018Q2</td>\n",
       "      <td>2018Q2</td>\n",
       "      <td>jundiai</td>\n",
       "      <td>5</td>\n",
       "      <td>credit_card</td>\n",
       "      <td>*****</td>\n",
       "      <td>85</td>\n",
       "      <td>2</td>\n",
       "      <td>4034.44</td>\n",
       "      <td>1</td>\n",
       "      <td>1</td>\n",
       "      <td>1</td>\n",
       "      <td>111</td>\n",
       "      <td>3</td>\n",
       "      <td>Platinum</td>\n",
       "    </tr>\n",
       "    <tr>\n",
       "      <th>105704</th>\n",
       "      <td>9cf0a858f5f153406bc333860eb23e22</td>\n",
       "      <td>2816.0</td>\n",
       "      <td>Small</td>\n",
       "      <td>Light</td>\n",
       "      <td>Cheap</td>\n",
       "      <td>2018Q3</td>\n",
       "      <td>2018Q3</td>\n",
       "      <td>sao paulo</td>\n",
       "      <td>4</td>\n",
       "      <td>voucher</td>\n",
       "      <td>****</td>\n",
       "      <td>13</td>\n",
       "      <td>2</td>\n",
       "      <td>2323.25</td>\n",
       "      <td>1</td>\n",
       "      <td>1</td>\n",
       "      <td>1</td>\n",
       "      <td>111</td>\n",
       "      <td>3</td>\n",
       "      <td>Platinum</td>\n",
       "    </tr>\n",
       "    <tr>\n",
       "      <th>105703</th>\n",
       "      <td>9cf0a858f5f153406bc333860eb23e22</td>\n",
       "      <td>2816.0</td>\n",
       "      <td>Small</td>\n",
       "      <td>Light</td>\n",
       "      <td>Cheap</td>\n",
       "      <td>2018Q3</td>\n",
       "      <td>2018Q3</td>\n",
       "      <td>sao paulo</td>\n",
       "      <td>4</td>\n",
       "      <td>credit_card</td>\n",
       "      <td>****</td>\n",
       "      <td>13</td>\n",
       "      <td>2</td>\n",
       "      <td>2323.25</td>\n",
       "      <td>1</td>\n",
       "      <td>1</td>\n",
       "      <td>1</td>\n",
       "      <td>111</td>\n",
       "      <td>3</td>\n",
       "      <td>Platinum</td>\n",
       "    </tr>\n",
       "    <tr>\n",
       "      <th>111571</th>\n",
       "      <td>466dcf5fcdc7c7a8a4bfebc7ce59b281</td>\n",
       "      <td>19950.0</td>\n",
       "      <td>Small</td>\n",
       "      <td>Medium</td>\n",
       "      <td>Cheap</td>\n",
       "      <td>2018Q3</td>\n",
       "      <td>2018Q3</td>\n",
       "      <td>ferraz de vasconcelos</td>\n",
       "      <td>1</td>\n",
       "      <td>voucher</td>\n",
       "      <td>*</td>\n",
       "      <td>12</td>\n",
       "      <td>2</td>\n",
       "      <td>2014.99</td>\n",
       "      <td>1</td>\n",
       "      <td>1</td>\n",
       "      <td>1</td>\n",
       "      <td>111</td>\n",
       "      <td>3</td>\n",
       "      <td>Platinum</td>\n",
       "    </tr>\n",
       "    <tr>\n",
       "      <th>111572</th>\n",
       "      <td>466dcf5fcdc7c7a8a4bfebc7ce59b281</td>\n",
       "      <td>19950.0</td>\n",
       "      <td>Small</td>\n",
       "      <td>Medium</td>\n",
       "      <td>Cheap</td>\n",
       "      <td>2018Q3</td>\n",
       "      <td>2018Q3</td>\n",
       "      <td>ferraz de vasconcelos</td>\n",
       "      <td>1</td>\n",
       "      <td>credit_card</td>\n",
       "      <td>*</td>\n",
       "      <td>12</td>\n",
       "      <td>2</td>\n",
       "      <td>2014.99</td>\n",
       "      <td>1</td>\n",
       "      <td>1</td>\n",
       "      <td>1</td>\n",
       "      <td>111</td>\n",
       "      <td>3</td>\n",
       "      <td>Platinum</td>\n",
       "    </tr>\n",
       "  </tbody>\n",
       "</table>\n",
       "</div>"
      ],
      "text/plain": [
       "                             customer_id  product_dimension product_size  \\\n",
       "104230  eb7a157e8da9c488cd4ddc48711f1097           220932.0        Large   \n",
       "105704  9cf0a858f5f153406bc333860eb23e22             2816.0        Small   \n",
       "105703  9cf0a858f5f153406bc333860eb23e22             2816.0        Small   \n",
       "111571  466dcf5fcdc7c7a8a4bfebc7ce59b281            19950.0        Small   \n",
       "111572  466dcf5fcdc7c7a8a4bfebc7ce59b281            19950.0        Small   \n",
       "\n",
       "       product_weight_segment   price_class acquisition_cohort order_cohort  \\\n",
       "104230                  Heavy  Intermediete             2018Q2       2018Q2   \n",
       "105704                  Light         Cheap             2018Q3       2018Q3   \n",
       "105703                  Light         Cheap             2018Q3       2018Q3   \n",
       "111571                 Medium         Cheap             2018Q3       2018Q3   \n",
       "111572                 Medium         Cheap             2018Q3       2018Q3   \n",
       "\n",
       "                customer_city  review_score payment_type Star_Rate  Recency  \\\n",
       "104230                jundiai             5  credit_card     *****       85   \n",
       "105704              sao paulo             4      voucher      ****       13   \n",
       "105703              sao paulo             4  credit_card      ****       13   \n",
       "111571  ferraz de vasconcelos             1      voucher         *       12   \n",
       "111572  ferraz de vasconcelos             1  credit_card         *       12   \n",
       "\n",
       "        Frequency  Monetary  R  F  M RFMScore  Score CustomerLevel  \n",
       "104230          2   4034.44  1  1  1      111      3      Platinum  \n",
       "105704          2   2323.25  1  1  1      111      3      Platinum  \n",
       "105703          2   2323.25  1  1  1      111      3      Platinum  \n",
       "111571          2   2014.99  1  1  1      111      3      Platinum  \n",
       "111572          2   2014.99  1  1  1      111      3      Platinum  "
      ]
     },
     "execution_count": 36,
     "metadata": {},
     "output_type": "execute_result"
    }
   ],
   "source": [
    "scr[scr['RFMScore']=='111'].sort_values('Monetary', ascending= False).head()"
   ]
  },
  {
   "cell_type": "markdown",
   "id": "dc029601",
   "metadata": {
    "papermill": {
     "duration": 0.018305,
     "end_time": "2022-10-18T13:33:30.263530",
     "exception": false,
     "start_time": "2022-10-18T13:33:30.245225",
     "status": "completed"
    },
    "tags": []
   },
   "source": [
    "**====RFM Distribution Visualization====**"
   ]
  },
  {
   "cell_type": "code",
   "execution_count": 37,
   "id": "610c7bdc",
   "metadata": {
    "execution": {
     "iopub.execute_input": "2022-10-18T13:33:30.302972Z",
     "iopub.status.busy": "2022-10-18T13:33:30.302540Z",
     "iopub.status.idle": "2022-10-18T13:33:32.835091Z",
     "shell.execute_reply": "2022-10-18T13:33:32.833178Z"
    },
    "papermill": {
     "duration": 2.555874,
     "end_time": "2022-10-18T13:33:32.838055",
     "exception": false,
     "start_time": "2022-10-18T13:33:30.282181",
     "status": "completed"
    },
    "tags": []
   },
   "outputs": [
    {
     "data": {
      "text/plain": [
       "<AxesSubplot:xlabel='Monetary', ylabel='Density'>"
      ]
     },
     "execution_count": 37,
     "metadata": {},
     "output_type": "execute_result"
    },
    {
     "data": {
      "image/png": "[encoded data removed]",
      "text/plain": [
       "<Figure size 360x720 with 3 Axes>"
      ]
     },
     "metadata": {
      "needs_background": "light"
     },
     "output_type": "display_data"
    }
   ],
   "source": [
    "clustering = scr[['Recency',\"Frequency\",\"Monetary\"]].copy()\n",
    "def handle_o_n_min (num):\n",
    "    if num <=1:\n",
    "       return 1\n",
    "    else:\n",
    "       return num\n",
    "clustering['Recency']=[handle_o_n_min(x) for x in clustering.Recency]\n",
    "clustering['Monetary']=[handle_o_n_min(x) for x in clustering.Monetary]\n",
    "clustering['Frequency']=[handle_o_n_min(x) for x in clustering.Frequency]\n",
    "data_norm = clustering.apply(np.log,axis=1)\n",
    "plt.figure(figsize=(5,10))\n",
    "plt.subplot(3,1,1)\n",
    "Recency_Plot = data_norm['Recency']\n",
    "sns.distplot(Recency_Plot,kde_kws={\"color\":\"r\",\"lw\":3},hist_kws={\"color\":\"r\"})\n",
    "plt.subplot(3,1,2)\n",
    "Frequency_Plot = data_norm.query('Frequency < 1000')['Frequency']\n",
    "sns.distplot(Frequency_Plot,kde_kws={\"color\":\"g\",\"lw\":3},hist_kws={\"color\":\"g\"})\n",
    "plt.subplot(3,1,3)\n",
    "Monetary_Plot = data_norm.query('Monetary< 10000')['Monetary']\n",
    "sns.distplot(Monetary_Plot,kde_kws={\"color\":\"b\",\"lw\":3},hist_kws={\"color\":\"b\"})"
   ]
  },
  {
   "cell_type": "markdown",
   "id": "43fec739",
   "metadata": {
    "papermill": {
     "duration": 0.018899,
     "end_time": "2022-10-18T13:33:32.877874",
     "exception": false,
     "start_time": "2022-10-18T13:33:32.858975",
     "status": "completed"
    },
    "tags": []
   },
   "source": [
    "**====Customer Level Pie Chart Segmentation====**"
   ]
  },
  {
   "cell_type": "code",
   "execution_count": 38,
   "id": "66a99c3b",
   "metadata": {
    "execution": {
     "iopub.execute_input": "2022-10-18T13:33:32.917596Z",
     "iopub.status.busy": "2022-10-18T13:33:32.917106Z",
     "iopub.status.idle": "2022-10-18T13:33:33.047874Z",
     "shell.execute_reply": "2022-10-18T13:33:33.046302Z"
    },
    "papermill": {
     "duration": 0.154738,
     "end_time": "2022-10-18T13:33:33.051847",
     "exception": false,
     "start_time": "2022-10-18T13:33:32.897109",
     "status": "completed"
    },
    "tags": []
   },
   "outputs": [
    {
     "data": {
      "image/png": "[encoded data removed]",
      "text/plain": [
       "<Figure size 432x288 with 1 Axes>"
      ]
     },
     "metadata": {},
     "output_type": "display_data"
    }
   ],
   "source": [
    "plt.pie(scr.CustomerLevel.value_counts(),\n",
    "        labels=scr.CustomerLevel.value_counts().index,\n",
    "        autopct='%.0f%%')\n",
    "plt.show()"
   ]
  },
  {
   "cell_type": "markdown",
   "id": "c64a421f",
   "metadata": {
    "papermill": {
     "duration": 0.034961,
     "end_time": "2022-10-18T13:33:33.121168",
     "exception": false,
     "start_time": "2022-10-18T13:33:33.086207",
     "status": "completed"
    },
    "tags": []
   },
   "source": [
    "**===CUSTOMER COHORT ANALYSIS===**"
   ]
  },
  {
   "cell_type": "code",
   "execution_count": 39,
   "id": "e55b369a",
   "metadata": {
    "execution": {
     "iopub.execute_input": "2022-10-18T13:33:33.173044Z",
     "iopub.status.busy": "2022-10-18T13:33:33.170473Z",
     "iopub.status.idle": "2022-10-18T13:33:33.478366Z",
     "shell.execute_reply": "2022-10-18T13:33:33.477178Z"
    },
    "papermill": {
     "duration": 0.333417,
     "end_time": "2022-10-18T13:33:33.480824",
     "exception": false,
     "start_time": "2022-10-18T13:33:33.147407",
     "status": "completed"
    },
    "tags": []
   },
   "outputs": [
    {
     "data": {
      "text/html": [
       "<div>\n",
       "<style scoped>\n",
       "    .dataframe tbody tr th:only-of-type {\n",
       "        vertical-align: middle;\n",
       "    }\n",
       "\n",
       "    .dataframe tbody tr th {\n",
       "        vertical-align: top;\n",
       "    }\n",
       "\n",
       "    .dataframe thead th {\n",
       "        text-align: right;\n",
       "    }\n",
       "</style>\n",
       "<table border=\"1\" class=\"dataframe\">\n",
       "  <thead>\n",
       "    <tr style=\"text-align: right;\">\n",
       "      <th></th>\n",
       "      <th>acquisition_cohort</th>\n",
       "      <th>order_cohort</th>\n",
       "      <th>customers</th>\n",
       "      <th>periods</th>\n",
       "    </tr>\n",
       "  </thead>\n",
       "  <tbody>\n",
       "    <tr>\n",
       "      <th>0</th>\n",
       "      <td>2016-10</td>\n",
       "      <td>2016-10</td>\n",
       "      <td>270</td>\n",
       "      <td>0</td>\n",
       "    </tr>\n",
       "    <tr>\n",
       "      <th>1</th>\n",
       "      <td>2016-12</td>\n",
       "      <td>2016-12</td>\n",
       "      <td>1</td>\n",
       "      <td>0</td>\n",
       "    </tr>\n",
       "    <tr>\n",
       "      <th>2</th>\n",
       "      <td>2017-01</td>\n",
       "      <td>2017-01</td>\n",
       "      <td>748</td>\n",
       "      <td>0</td>\n",
       "    </tr>\n",
       "    <tr>\n",
       "      <th>3</th>\n",
       "      <td>2017-02</td>\n",
       "      <td>2017-02</td>\n",
       "      <td>1641</td>\n",
       "      <td>0</td>\n",
       "    </tr>\n",
       "    <tr>\n",
       "      <th>4</th>\n",
       "      <td>2017-03</td>\n",
       "      <td>2017-03</td>\n",
       "      <td>2546</td>\n",
       "      <td>0</td>\n",
       "    </tr>\n",
       "  </tbody>\n",
       "</table>\n",
       "</div>"
      ],
      "text/plain": [
       "  acquisition_cohort order_cohort  customers  periods\n",
       "0            2016-10      2016-10        270        0\n",
       "1            2016-12      2016-12          1        0\n",
       "2            2017-01      2017-01        748        0\n",
       "3            2017-02      2017-02       1641        0\n",
       "4            2017-03      2017-03       2546        0"
      ]
     },
     "execution_count": 39,
     "metadata": {},
     "output_type": "execute_result"
    }
   ],
   "source": [
    "import operator as op\n",
    "def get_retention(cop, period='M'):\n",
    "    cop = get_cohort(cop, period).groupby(['acquisition_cohort', 'order_cohort']).agg(customers=('customer_id', 'nunique')).reset_index(drop=False)\n",
    "    cop['periods'] = (cop.order_cohort - cop.acquisition_cohort).apply(op.attrgetter('n'))\n",
    "    return cop\n",
    "retention = get_retention(cop)\n",
    "retention.head()"
   ]
  },
  {
   "cell_type": "code",
   "execution_count": 40,
   "id": "67ebfde9",
   "metadata": {
    "execution": {
     "iopub.execute_input": "2022-10-18T13:33:33.523639Z",
     "iopub.status.busy": "2022-10-18T13:33:33.523216Z",
     "iopub.status.idle": "2022-10-18T13:33:33.853825Z",
     "shell.execute_reply": "2022-10-18T13:33:33.852059Z"
    },
    "papermill": {
     "duration": 0.356752,
     "end_time": "2022-10-18T13:33:33.857363",
     "exception": false,
     "start_time": "2022-10-18T13:33:33.500611",
     "status": "completed"
    },
    "tags": []
   },
   "outputs": [
    {
     "data": {
      "text/html": [
       "<div>\n",
       "<style scoped>\n",
       "    .dataframe tbody tr th:only-of-type {\n",
       "        vertical-align: middle;\n",
       "    }\n",
       "\n",
       "    .dataframe tbody tr th {\n",
       "        vertical-align: top;\n",
       "    }\n",
       "\n",
       "    .dataframe thead th {\n",
       "        text-align: right;\n",
       "    }\n",
       "</style>\n",
       "<table border=\"1\" class=\"dataframe\">\n",
       "  <thead>\n",
       "    <tr style=\"text-align: right;\">\n",
       "      <th>periods</th>\n",
       "      <th>0</th>\n",
       "    </tr>\n",
       "    <tr>\n",
       "      <th>acquisition_cohort</th>\n",
       "      <th></th>\n",
       "    </tr>\n",
       "  </thead>\n",
       "  <tbody>\n",
       "    <tr>\n",
       "      <th>2016Q4</th>\n",
       "      <td>100.0</td>\n",
       "    </tr>\n",
       "    <tr>\n",
       "      <th>2017Q1</th>\n",
       "      <td>100.0</td>\n",
       "    </tr>\n",
       "    <tr>\n",
       "      <th>2017Q2</th>\n",
       "      <td>100.0</td>\n",
       "    </tr>\n",
       "    <tr>\n",
       "      <th>2017Q3</th>\n",
       "      <td>100.0</td>\n",
       "    </tr>\n",
       "    <tr>\n",
       "      <th>2017Q4</th>\n",
       "      <td>100.0</td>\n",
       "    </tr>\n",
       "  </tbody>\n",
       "</table>\n",
       "</div>"
      ],
      "text/plain": [
       "periods                 0\n",
       "acquisition_cohort       \n",
       "2016Q4              100.0\n",
       "2017Q1              100.0\n",
       "2017Q2              100.0\n",
       "2017Q3              100.0\n",
       "2017Q4              100.0"
      ]
     },
     "execution_count": 40,
     "metadata": {},
     "output_type": "execute_result"
    }
   ],
   "source": [
    "def get_cohort_matrix(cop, period='M', percentage=False):\n",
    "    cop = get_retention(cop, period).pivot_table(index = 'acquisition_cohort',\n",
    "                                               columns = 'periods',\n",
    "                                               values = 'customers')\n",
    "    if percentage:\n",
    "        cop = cop.divide(cop.iloc[:,0], axis=0)*100\n",
    "    return cop\n",
    "cop_matrix = get_cohort_matrix(cop, 'Q', percentage=True)\n",
    "cop_matrix.head()"
   ]
  },
  {
   "cell_type": "code",
   "execution_count": 41,
   "id": "db6b582a",
   "metadata": {
    "execution": {
     "iopub.execute_input": "2022-10-18T13:33:33.900221Z",
     "iopub.status.busy": "2022-10-18T13:33:33.899790Z",
     "iopub.status.idle": "2022-10-18T13:33:33.944023Z",
     "shell.execute_reply": "2022-10-18T13:33:33.942199Z"
    },
    "papermill": {
     "duration": 0.06926,
     "end_time": "2022-10-18T13:33:33.947538",
     "exception": false,
     "start_time": "2022-10-18T13:33:33.878278",
     "status": "completed"
    },
    "tags": []
   },
   "outputs": [
    {
     "data": {
      "text/html": [
       "<div>\n",
       "<style scoped>\n",
       "    .dataframe tbody tr th:only-of-type {\n",
       "        vertical-align: middle;\n",
       "    }\n",
       "\n",
       "    .dataframe tbody tr th {\n",
       "        vertical-align: top;\n",
       "    }\n",
       "\n",
       "    .dataframe thead th {\n",
       "        text-align: right;\n",
       "    }\n",
       "</style>\n",
       "<table border=\"1\" class=\"dataframe\">\n",
       "  <thead>\n",
       "    <tr style=\"text-align: right;\">\n",
       "      <th></th>\n",
       "      <th>customer_id</th>\n",
       "      <th>product_dimension</th>\n",
       "      <th>product_size</th>\n",
       "      <th>product_weight_segment</th>\n",
       "      <th>price_class</th>\n",
       "      <th>acquisition_cohort</th>\n",
       "      <th>order_cohort</th>\n",
       "      <th>customer_city</th>\n",
       "      <th>review_score</th>\n",
       "      <th>payment_type</th>\n",
       "      <th>Star_Rate</th>\n",
       "      <th>Recency</th>\n",
       "      <th>Frequency</th>\n",
       "      <th>Monetary</th>\n",
       "      <th>R</th>\n",
       "      <th>F</th>\n",
       "      <th>M</th>\n",
       "      <th>RFMScore</th>\n",
       "      <th>Score</th>\n",
       "      <th>CustomerLevel</th>\n",
       "    </tr>\n",
       "  </thead>\n",
       "  <tbody>\n",
       "    <tr>\n",
       "      <th>73365</th>\n",
       "      <td>001051abfcfdbed9f87b4266213a5df1</td>\n",
       "      <td>9720.0</td>\n",
       "      <td>Small</td>\n",
       "      <td>Light</td>\n",
       "      <td>Cheap</td>\n",
       "      <td>2018Q2</td>\n",
       "      <td>2018Q2</td>\n",
       "      <td>sao paulo</td>\n",
       "      <td>4</td>\n",
       "      <td>voucher</td>\n",
       "      <td>****</td>\n",
       "      <td>91</td>\n",
       "      <td>3</td>\n",
       "      <td>65.2</td>\n",
       "      <td>1</td>\n",
       "      <td>1</td>\n",
       "      <td>3</td>\n",
       "      <td>113</td>\n",
       "      <td>5</td>\n",
       "      <td>Gold</td>\n",
       "    </tr>\n",
       "  </tbody>\n",
       "</table>\n",
       "</div>"
      ],
      "text/plain": [
       "                            customer_id  product_dimension product_size  \\\n",
       "73365  001051abfcfdbed9f87b4266213a5df1             9720.0        Small   \n",
       "\n",
       "      product_weight_segment price_class acquisition_cohort order_cohort  \\\n",
       "73365                  Light       Cheap             2018Q2       2018Q2   \n",
       "\n",
       "      customer_city  review_score payment_type Star_Rate  Recency  Frequency  \\\n",
       "73365     sao paulo             4      voucher      ****       91          3   \n",
       "\n",
       "       Monetary  R  F  M RFMScore  Score CustomerLevel  \n",
       "73365      65.2  1  1  3      113      5          Gold  "
      ]
     },
     "execution_count": 41,
     "metadata": {},
     "output_type": "execute_result"
    }
   ],
   "source": [
    "ls = scr[scr['customer_id']== '001051abfcfdbed9f87b4266213a5df1']\n",
    "ls"
   ]
  },
  {
   "cell_type": "markdown",
   "id": "c1ddfb3f",
   "metadata": {
    "execution": {
     "iopub.status.busy": "2022-10-01T07:35:33.727007Z",
     "iopub.status.idle": "2022-10-01T07:35:33.727490Z",
     "shell.execute_reply": "2022-10-01T07:35:33.727306Z",
     "shell.execute_reply.started": "2022-10-01T07:35:33.727286Z"
    },
    "papermill": {
     "duration": 0.019787,
     "end_time": "2022-10-18T13:33:33.989685",
     "exception": false,
     "start_time": "2022-10-18T13:33:33.969898",
     "status": "completed"
    },
    "tags": []
   },
   "source": [
    "**###CONCLUSIONS###**\n",
    "\n",
    "* MAJORITY OF THE CUSTOMERS GIVE A 5 STARS FEEDBACK SCORE REVIEW\n",
    "* THE MOST FAVORABLE PAYMENT TYPE IS USING CREDIT CARD\n",
    "* THE CITY WITH MOST CUSTOMERS IS AT SAO PAOLO\n",
    "* THE BEST CUSTOMER IS **eb7a157e8da9c488cd4ddc48711f1097**\n",
    "* THERE IS NO SAME CUSTOMER THAT ORDER AGAIN WITHIN DIFFERENT PERIOD, ALL OF \n",
    "  THEM BUY DIFFERENT ITEM AT THE SAME PERIOD LIKE CUSTOMERS **001051abfcfdbed9f87b4266213a5df1**\n",
    "\n",
    "Note: Untuk 1-3 merupakan tugas dalam membuat dataset, sedangkan 4 merupakan tambahan untuk analisa menggunakan seaborn dan matplotlib\n",
    "Note tambahan: Disini saya menggunakan beberapa kolom yang sudah ada dari dataset sumber dikarenakan \n",
    "saya melihat kolom ini diperlukan untuk membuat customer 360 dataset seperti analisa yang \n",
    "sudah saya lakukan. Berdasarkan perintah tugas yang diberikan hanya mencantumkan untuk membuat \n",
    "customer 360 dataset dengan minimal 20 attribute tanpa mencantumkan attributenya harus baru atau tidak.\n",
    "KAGGLE LINK: https://www.kaggle.com/code/adityanafrianda/03-aditya-nur-afrianda"
   ]
  }
 ],
 "metadata": {
  "kernelspec": {
   "display_name": "Python 3",
   "language": "python",
   "name": "python3"
  },
  "language_info": {
   "codemirror_mode": {
    "name": "ipython",
    "version": 3
   },
   "file_extension": ".py",
   "mimetype": "text/x-python",
   "name": "python",
   "nbconvert_exporter": "python",
   "pygments_lexer": "ipython3",
   "version": "3.7.12"
  },
  "papermill": {
   "default_parameters": {},
   "duration": 59.992691,
   "end_time": "2022-10-18T13:33:34.934483",
   "environment_variables": {},
   "exception": null,
   "input_path": "__notebook__.ipynb",
   "output_path": "__notebook__.ipynb",
   "parameters": {},
   "start_time": "2022-10-18T13:32:34.941792",
   "version": "2.3.4"
  }
 },
 "nbformat": 4,
 "nbformat_minor": 5
}
